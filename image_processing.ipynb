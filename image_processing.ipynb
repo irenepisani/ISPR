{
  "nbformat": 4,
  "nbformat_minor": 0,
  "metadata": {
    "colab": {
      "name": "image_processing.ipynb",
      "provenance": []
    },
    "kernelspec": {
      "name": "python3",
      "display_name": "Python 3"
    },
    "language_info": {
      "name": "python"
    }
  },
  "cells": [
    {
      "cell_type": "code",
      "execution_count": null,
      "metadata": {
        "colab": {
          "base_uri": "https://localhost:8080/"
        },
        "id": "gzRE1gQWmt0h",
        "outputId": "2dba7805-95cd-4fb8-f725-f84208fe51fc"
      },
      "outputs": [
        {
          "output_type": "stream",
          "name": "stdout",
          "text": [
            "ciao\n"
          ]
        }
      ],
      "source": [
        "print(\"ciao\")"
      ]
    },
    {
      "cell_type": "markdown",
      "source": [
        "# **MIDTERM 1:** assignment 5\n",
        "# **Author:** Irene Pisani - 560104 - i.pisani1@studenti.unipi.it\n",
        "\n",
        "\n"
      ],
      "metadata": {
        "id": "6EhxRWx58OWY"
      }
    },
    {
      "cell_type": "markdown",
      "source": [
        ""
      ],
      "metadata": {
        "id": "cVJ2NKmgm0Vk"
      }
    },
    {
      "cell_type": "markdown",
      "source": [
        ""
      ],
      "metadata": {
        "id": "8ZCJ-4qs0FaN"
      }
    }
  ]
}