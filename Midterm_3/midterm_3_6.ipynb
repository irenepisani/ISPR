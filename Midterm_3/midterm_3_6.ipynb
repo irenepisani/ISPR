{
  "nbformat": 4,
  "nbformat_minor": 0,
  "metadata": {
    "colab": {
      "name": "midterm_3_6.ipynb",
      "provenance": [],
      "collapsed_sections": [
        "Fg2WtUid7pDk"
      ]
    },
    "kernelspec": {
      "name": "python3",
      "display_name": "Python 3"
    },
    "language_info": {
      "name": "python"
    }
  },
  "cells": [
    {
      "cell_type": "markdown",
      "source": [
        "**Univerisity of Pisa - M.Sc. Computer Science, Artificial Intelligence**  \n",
        "**Intelligent system for pattern recognition - a.a. 2021/22**\n",
        "\n",
        "**Author:** Irene Pisani - i.pisani1@studenti.unipi.it - matricola 560104  \n",
        "**Date:** 16 May 2022\n",
        "\n",
        "### **3° MIDTERM: assignment n°6**\n",
        "# **TEXT PROCESSING: FAKE NEWS DETECTION WITH BI-DIRECTIONAL LSTM RNN**\n",
        "\n",
        "***Abstract.*** \n",
        "The dataset contains real and fake news, including their title, text, subject, and date. The objective is to train a binary classifier to recognize fake news. You are free to choose the model's architecture, but you should describe and justify your design choices. \n",
        "\n",
        "Notice that the fake and real news in the dataset are balanced. However, in the real world, real news are much more frequent than fake ones (hopefully). Simulate the effect of the data imbalance by undersampling/oversampling one of the classes in the training set and compute the test accuracy on a (balanced) test set. Then, try to use a mechanism to make the training robust to imbalances, such as weighting the loss for the samples depending on their class. Discuss the results of this mitigation.\n",
        "\n",
        "NOTE ON PREPROCESSING: you are allowed to preprocess the data however you want (e.g. using pretrained embeddings, dropping some features, just a bag-of-words), but the classification model must be trained by yourself."
      ],
      "metadata": {
        "id": "Fg2WtUid7pDk"
      }
    },
    {
      "cell_type": "markdown",
      "source": [
        "\n",
        "\n",
        "---\n",
        "\n",
        "## **1. Preliminary steps: required tools and dataset**"
      ],
      "metadata": {
        "id": "93h1aw9z_tc_"
      }
    },
    {
      "cell_type": "markdown",
      "source": [
        "Python version 3.7 was used for this project.  For the code below to work properly, it is necessary to install some auxiliary libraries (as NLTK, Keras, SciKit Learn and others) and tools (as pretrained Glove embeddings)."
      ],
      "metadata": {
        "id": "3f4nnIeEAA4e"
      }
    },
    {
      "cell_type": "code",
      "execution_count": null,
      "metadata": {
        "id": "vBcr566jq_Xd",
        "colab": {
          "base_uri": "https://localhost:8080/"
        },
        "outputId": "1e94fbaa-23c7-4f8c-a23d-cd8decf43b34"
      },
      "outputs": [
        {
          "output_type": "stream",
          "name": "stdout",
          "text": [
            "[nltk_data] Downloading package stopwords to /root/nltk_data...\n",
            "[nltk_data]   Unzipping corpora/stopwords.zip.\n",
            "[nltk_data] Downloading package punkt to /root/nltk_data...\n",
            "[nltk_data]   Unzipping tokenizers/punkt.zip.\n",
            "[nltk_data] Downloading package wordnet to /root/nltk_data...\n",
            "[nltk_data]   Unzipping corpora/wordnet.zip.\n"
          ]
        }
      ],
      "source": [
        "import pandas as pd \n",
        "import numpy  as np\n",
        "import re \n",
        "import os\n",
        "\n",
        "import matplotlib.pyplot as plt \n",
        "import seaborn as sns \n",
        "plt.style.use('ggplot')\n",
        "\n",
        "# KERAS -> useful to create a model \n",
        "import tensorflow as tf \n",
        "from tensorflow.keras.preprocessing.text import Tokenizer\n",
        "from tensorflow.keras.preprocessing.sequence import pad_sequences\n",
        "from tensorflow.keras.initializers import Constant\n",
        "from tensorflow.keras.models import Sequential\n",
        "from tensorflow.keras.layers import Embedding, LSTM, Dense, Bidirectional\n",
        "\n",
        "# SKLEARN -> useful for model selection and model assestment\n",
        "from sklearn.model_selection import train_test_split\n",
        "from sklearn.metrics import accuracy_score, precision_score, recall_score, confusion_matrix\n",
        "from sklearn.utils import class_weight\n",
        "\n",
        "# NLTK -> useful to pre-process dataset\n",
        "import nltk\n",
        "nltk.download('stopwords')\n",
        "nltk.download('punkt')\n",
        "nltk.download('wordnet')\n",
        "from nltk.stem import WordNetLemmatizer\n",
        "from nltk.stem.porter import PorterStemmer\n",
        "from nltk.corpus import stopwords\n",
        "\n",
        "# IMBALANCE LEARN library -> useful to create imbalance training set \n",
        "from imblearn.datasets import make_imbalance\n",
        "from imblearn.under_sampling import RandomUnderSampler\n",
        "from imblearn.over_sampling import RandomOverSampler"
      ]
    },
    {
      "cell_type": "code",
      "source": [
        "# GLOVE -> pretrained embeddings\n",
        "!wget http://nlp.stanford.edu/data/glove.6B.zip"
      ],
      "metadata": {
        "colab": {
          "base_uri": "https://localhost:8080/"
        },
        "id": "UL4LKIPMmBMn",
        "outputId": "af51a7dd-b7a3-4598-dc21-19f9eb95031f"
      },
      "execution_count": null,
      "outputs": [
        {
          "output_type": "stream",
          "name": "stdout",
          "text": [
            "--2022-05-15 13:09:08--  http://nlp.stanford.edu/data/glove.6B.zip\n",
            "Resolving nlp.stanford.edu (nlp.stanford.edu)... 171.64.67.140\n",
            "Connecting to nlp.stanford.edu (nlp.stanford.edu)|171.64.67.140|:80... connected.\n",
            "HTTP request sent, awaiting response... 302 Found\n",
            "Location: https://nlp.stanford.edu/data/glove.6B.zip [following]\n",
            "--2022-05-15 13:09:08--  https://nlp.stanford.edu/data/glove.6B.zip\n",
            "Connecting to nlp.stanford.edu (nlp.stanford.edu)|171.64.67.140|:443... connected.\n",
            "HTTP request sent, awaiting response... 301 Moved Permanently\n",
            "Location: http://downloads.cs.stanford.edu/nlp/data/glove.6B.zip [following]\n",
            "--2022-05-15 13:09:09--  http://downloads.cs.stanford.edu/nlp/data/glove.6B.zip\n",
            "Resolving downloads.cs.stanford.edu (downloads.cs.stanford.edu)... 171.64.64.22\n",
            "Connecting to downloads.cs.stanford.edu (downloads.cs.stanford.edu)|171.64.64.22|:80... connected.\n",
            "HTTP request sent, awaiting response... 200 OK\n",
            "Length: 862182613 (822M) [application/zip]\n",
            "Saving to: ‘glove.6B.zip’\n",
            "\n",
            "glove.6B.zip        100%[===================>] 822.24M  5.01MB/s    in 2m 41s  \n",
            "\n",
            "2022-05-15 13:11:49 (5.12 MB/s) - ‘glove.6B.zip’ saved [862182613/862182613]\n",
            "\n"
          ]
        }
      ]
    },
    {
      "cell_type": "code",
      "source": [
        "!unzip \"glove.6B.zip\""
      ],
      "metadata": {
        "colab": {
          "base_uri": "https://localhost:8080/"
        },
        "id": "PgL-YGdOmliE",
        "outputId": "152a5b93-35e0-4047-c65b-4b8ac989a1d2"
      },
      "execution_count": null,
      "outputs": [
        {
          "output_type": "stream",
          "name": "stdout",
          "text": [
            "Archive:  glove.6B.zip\n",
            "  inflating: glove.6B.50d.txt        \n",
            "  inflating: glove.6B.100d.txt       \n",
            "  inflating: glove.6B.200d.txt       \n",
            "  inflating: glove.6B.300d.txt       \n"
          ]
        }
      ]
    },
    {
      "cell_type": "markdown",
      "source": [
        "### **1.1. Fake news dataset and Real news dataset**\n",
        "\n",
        "Download the required [Fake News Dataset and Real News Dataset](https://www.kaggle.com/datasets/clmentbisaillon/fake-and-real-news-dataset?resource=download) from the Github repository where they are stored."
      ],
      "metadata": {
        "id": "7d0tZ-w6CYOZ"
      }
    },
    {
      "cell_type": "code",
      "source": [
        "!git clone https://github.com/irenepisani/Fake_News_Detection.git"
      ],
      "metadata": {
        "colab": {
          "base_uri": "https://localhost:8080/"
        },
        "id": "X7aC0cGzdrAx",
        "outputId": "64a87b8e-ace3-41d9-ba1e-289d7bc57f6b"
      },
      "execution_count": null,
      "outputs": [
        {
          "output_type": "stream",
          "name": "stdout",
          "text": [
            "Cloning into 'Fake_News_Detection'...\n",
            "remote: Enumerating objects: 7, done.\u001b[K\n",
            "remote: Counting objects: 100% (7/7), done.\u001b[K\n",
            "remote: Compressing objects: 100% (5/5), done.\u001b[K\n",
            "remote: Total 7 (delta 0), reused 0 (delta 0), pack-reused 0\u001b[K\n",
            "Unpacking objects: 100% (7/7), done.\n"
          ]
        }
      ]
    },
    {
      "cell_type": "code",
      "source": [
        "!unzip \"Fake_News_Detection/Fake.csv.zip\"\n",
        "!unzip \"Fake_News_Detection/True.csv.zip\""
      ],
      "metadata": {
        "colab": {
          "base_uri": "https://localhost:8080/"
        },
        "id": "Scx34BPQeYI4",
        "outputId": "a68fcca7-40b8-464e-bd77-0fe7066d9a82"
      },
      "execution_count": null,
      "outputs": [
        {
          "output_type": "stream",
          "name": "stdout",
          "text": [
            "Archive:  Fake_News_Detection/Fake.csv.zip\n",
            "  inflating: Fake.csv                \n",
            "  inflating: __MACOSX/._Fake.csv     \n",
            "Archive:  Fake_News_Detection/True.csv.zip\n",
            "  inflating: True.csv                \n",
            "  inflating: __MACOSX/._True.csv     \n"
          ]
        }
      ]
    },
    {
      "cell_type": "markdown",
      "source": [
        "\n",
        "\n",
        "---\n",
        "\n",
        "\n",
        "## **2. Datasets pre-processing**"
      ],
      "metadata": {
        "id": "Md1Jqd1xFa1s"
      }
    },
    {
      "cell_type": "markdown",
      "source": [
        "### **2.1. Dataset analysis**\n",
        "\n",
        "In order to set up this project, we first turned our attention to the structure of the two datasets employed: *Fake News Dataset* and *Real News Dataset*."
      ],
      "metadata": {
        "id": "FwhXNwbukjZz"
      }
    },
    {
      "cell_type": "code",
      "source": [
        "# read Fake News Dataset and show it as pandas dataframe\n",
        "fake_news_dataset = pd.read_csv('Fake.csv', parse_dates=['date'], infer_datetime_format = True) # read Fake News Dataset\n",
        "display(fake_news_dataset)"
      ],
      "metadata": {
        "colab": {
          "base_uri": "https://localhost:8080/",
          "height": 419
        },
        "id": "JDO2y9pADeCP",
        "outputId": "69f8f2ee-6c4d-4f57-ee42-86a98c834389"
      },
      "execution_count": null,
      "outputs": [
        {
          "output_type": "display_data",
          "data": {
            "text/plain": [
              "                                                   title  \\\n",
              "0       Donald Trump Sends Out Embarrassing New Year’...   \n",
              "1       Drunk Bragging Trump Staffer Started Russian ...   \n",
              "2       Sheriff David Clarke Becomes An Internet Joke...   \n",
              "3       Trump Is So Obsessed He Even Has Obama’s Name...   \n",
              "4       Pope Francis Just Called Out Donald Trump Dur...   \n",
              "...                                                  ...   \n",
              "23476  McPain: John McCain Furious That Iran Treated ...   \n",
              "23477  JUSTICE? Yahoo Settles E-mail Privacy Class-ac...   \n",
              "23478  Sunnistan: US and Allied ‘Safe Zone’ Plan to T...   \n",
              "23479  How to Blow $700 Million: Al Jazeera America F...   \n",
              "23480  10 U.S. Navy Sailors Held by Iranian Military ...   \n",
              "\n",
              "                                                    text      subject  \\\n",
              "0      Donald Trump just couldn t wish all Americans ...         News   \n",
              "1      House Intelligence Committee Chairman Devin Nu...         News   \n",
              "2      On Friday, it was revealed that former Milwauk...         News   \n",
              "3      On Christmas day, Donald Trump announced that ...         News   \n",
              "4      Pope Francis used his annual Christmas Day mes...         News   \n",
              "...                                                  ...          ...   \n",
              "23476  21st Century Wire says As 21WIRE reported earl...  Middle-east   \n",
              "23477  21st Century Wire says It s a familiar theme. ...  Middle-east   \n",
              "23478  Patrick Henningsen  21st Century WireRemember ...  Middle-east   \n",
              "23479  21st Century Wire says Al Jazeera America will...  Middle-east   \n",
              "23480  21st Century Wire says As 21WIRE predicted in ...  Middle-east   \n",
              "\n",
              "                    date  \n",
              "0      December 31, 2017  \n",
              "1      December 31, 2017  \n",
              "2      December 30, 2017  \n",
              "3      December 29, 2017  \n",
              "4      December 25, 2017  \n",
              "...                  ...  \n",
              "23476   January 16, 2016  \n",
              "23477   January 16, 2016  \n",
              "23478   January 15, 2016  \n",
              "23479   January 14, 2016  \n",
              "23480   January 12, 2016  \n",
              "\n",
              "[23481 rows x 4 columns]"
            ],
            "text/html": [
              "\n",
              "  <div id=\"df-c98f67ea-cf4a-44fa-87a8-73b64831824f\">\n",
              "    <div class=\"colab-df-container\">\n",
              "      <div>\n",
              "<style scoped>\n",
              "    .dataframe tbody tr th:only-of-type {\n",
              "        vertical-align: middle;\n",
              "    }\n",
              "\n",
              "    .dataframe tbody tr th {\n",
              "        vertical-align: top;\n",
              "    }\n",
              "\n",
              "    .dataframe thead th {\n",
              "        text-align: right;\n",
              "    }\n",
              "</style>\n",
              "<table border=\"1\" class=\"dataframe\">\n",
              "  <thead>\n",
              "    <tr style=\"text-align: right;\">\n",
              "      <th></th>\n",
              "      <th>title</th>\n",
              "      <th>text</th>\n",
              "      <th>subject</th>\n",
              "      <th>date</th>\n",
              "    </tr>\n",
              "  </thead>\n",
              "  <tbody>\n",
              "    <tr>\n",
              "      <th>0</th>\n",
              "      <td>Donald Trump Sends Out Embarrassing New Year’...</td>\n",
              "      <td>Donald Trump just couldn t wish all Americans ...</td>\n",
              "      <td>News</td>\n",
              "      <td>December 31, 2017</td>\n",
              "    </tr>\n",
              "    <tr>\n",
              "      <th>1</th>\n",
              "      <td>Drunk Bragging Trump Staffer Started Russian ...</td>\n",
              "      <td>House Intelligence Committee Chairman Devin Nu...</td>\n",
              "      <td>News</td>\n",
              "      <td>December 31, 2017</td>\n",
              "    </tr>\n",
              "    <tr>\n",
              "      <th>2</th>\n",
              "      <td>Sheriff David Clarke Becomes An Internet Joke...</td>\n",
              "      <td>On Friday, it was revealed that former Milwauk...</td>\n",
              "      <td>News</td>\n",
              "      <td>December 30, 2017</td>\n",
              "    </tr>\n",
              "    <tr>\n",
              "      <th>3</th>\n",
              "      <td>Trump Is So Obsessed He Even Has Obama’s Name...</td>\n",
              "      <td>On Christmas day, Donald Trump announced that ...</td>\n",
              "      <td>News</td>\n",
              "      <td>December 29, 2017</td>\n",
              "    </tr>\n",
              "    <tr>\n",
              "      <th>4</th>\n",
              "      <td>Pope Francis Just Called Out Donald Trump Dur...</td>\n",
              "      <td>Pope Francis used his annual Christmas Day mes...</td>\n",
              "      <td>News</td>\n",
              "      <td>December 25, 2017</td>\n",
              "    </tr>\n",
              "    <tr>\n",
              "      <th>...</th>\n",
              "      <td>...</td>\n",
              "      <td>...</td>\n",
              "      <td>...</td>\n",
              "      <td>...</td>\n",
              "    </tr>\n",
              "    <tr>\n",
              "      <th>23476</th>\n",
              "      <td>McPain: John McCain Furious That Iran Treated ...</td>\n",
              "      <td>21st Century Wire says As 21WIRE reported earl...</td>\n",
              "      <td>Middle-east</td>\n",
              "      <td>January 16, 2016</td>\n",
              "    </tr>\n",
              "    <tr>\n",
              "      <th>23477</th>\n",
              "      <td>JUSTICE? Yahoo Settles E-mail Privacy Class-ac...</td>\n",
              "      <td>21st Century Wire says It s a familiar theme. ...</td>\n",
              "      <td>Middle-east</td>\n",
              "      <td>January 16, 2016</td>\n",
              "    </tr>\n",
              "    <tr>\n",
              "      <th>23478</th>\n",
              "      <td>Sunnistan: US and Allied ‘Safe Zone’ Plan to T...</td>\n",
              "      <td>Patrick Henningsen  21st Century WireRemember ...</td>\n",
              "      <td>Middle-east</td>\n",
              "      <td>January 15, 2016</td>\n",
              "    </tr>\n",
              "    <tr>\n",
              "      <th>23479</th>\n",
              "      <td>How to Blow $700 Million: Al Jazeera America F...</td>\n",
              "      <td>21st Century Wire says Al Jazeera America will...</td>\n",
              "      <td>Middle-east</td>\n",
              "      <td>January 14, 2016</td>\n",
              "    </tr>\n",
              "    <tr>\n",
              "      <th>23480</th>\n",
              "      <td>10 U.S. Navy Sailors Held by Iranian Military ...</td>\n",
              "      <td>21st Century Wire says As 21WIRE predicted in ...</td>\n",
              "      <td>Middle-east</td>\n",
              "      <td>January 12, 2016</td>\n",
              "    </tr>\n",
              "  </tbody>\n",
              "</table>\n",
              "<p>23481 rows × 4 columns</p>\n",
              "</div>\n",
              "      <button class=\"colab-df-convert\" onclick=\"convertToInteractive('df-c98f67ea-cf4a-44fa-87a8-73b64831824f')\"\n",
              "              title=\"Convert this dataframe to an interactive table.\"\n",
              "              style=\"display:none;\">\n",
              "        \n",
              "  <svg xmlns=\"http://www.w3.org/2000/svg\" height=\"24px\"viewBox=\"0 0 24 24\"\n",
              "       width=\"24px\">\n",
              "    <path d=\"M0 0h24v24H0V0z\" fill=\"none\"/>\n",
              "    <path d=\"M18.56 5.44l.94 2.06.94-2.06 2.06-.94-2.06-.94-.94-2.06-.94 2.06-2.06.94zm-11 1L8.5 8.5l.94-2.06 2.06-.94-2.06-.94L8.5 2.5l-.94 2.06-2.06.94zm10 10l.94 2.06.94-2.06 2.06-.94-2.06-.94-.94-2.06-.94 2.06-2.06.94z\"/><path d=\"M17.41 7.96l-1.37-1.37c-.4-.4-.92-.59-1.43-.59-.52 0-1.04.2-1.43.59L10.3 9.45l-7.72 7.72c-.78.78-.78 2.05 0 2.83L4 21.41c.39.39.9.59 1.41.59.51 0 1.02-.2 1.41-.59l7.78-7.78 2.81-2.81c.8-.78.8-2.07 0-2.86zM5.41 20L4 18.59l7.72-7.72 1.47 1.35L5.41 20z\"/>\n",
              "  </svg>\n",
              "      </button>\n",
              "      \n",
              "  <style>\n",
              "    .colab-df-container {\n",
              "      display:flex;\n",
              "      flex-wrap:wrap;\n",
              "      gap: 12px;\n",
              "    }\n",
              "\n",
              "    .colab-df-convert {\n",
              "      background-color: #E8F0FE;\n",
              "      border: none;\n",
              "      border-radius: 50%;\n",
              "      cursor: pointer;\n",
              "      display: none;\n",
              "      fill: #1967D2;\n",
              "      height: 32px;\n",
              "      padding: 0 0 0 0;\n",
              "      width: 32px;\n",
              "    }\n",
              "\n",
              "    .colab-df-convert:hover {\n",
              "      background-color: #E2EBFA;\n",
              "      box-shadow: 0px 1px 2px rgba(60, 64, 67, 0.3), 0px 1px 3px 1px rgba(60, 64, 67, 0.15);\n",
              "      fill: #174EA6;\n",
              "    }\n",
              "\n",
              "    [theme=dark] .colab-df-convert {\n",
              "      background-color: #3B4455;\n",
              "      fill: #D2E3FC;\n",
              "    }\n",
              "\n",
              "    [theme=dark] .colab-df-convert:hover {\n",
              "      background-color: #434B5C;\n",
              "      box-shadow: 0px 1px 3px 1px rgba(0, 0, 0, 0.15);\n",
              "      filter: drop-shadow(0px 1px 2px rgba(0, 0, 0, 0.3));\n",
              "      fill: #FFFFFF;\n",
              "    }\n",
              "  </style>\n",
              "\n",
              "      <script>\n",
              "        const buttonEl =\n",
              "          document.querySelector('#df-c98f67ea-cf4a-44fa-87a8-73b64831824f button.colab-df-convert');\n",
              "        buttonEl.style.display =\n",
              "          google.colab.kernel.accessAllowed ? 'block' : 'none';\n",
              "\n",
              "        async function convertToInteractive(key) {\n",
              "          const element = document.querySelector('#df-c98f67ea-cf4a-44fa-87a8-73b64831824f');\n",
              "          const dataTable =\n",
              "            await google.colab.kernel.invokeFunction('convertToInteractive',\n",
              "                                                     [key], {});\n",
              "          if (!dataTable) return;\n",
              "\n",
              "          const docLinkHtml = 'Like what you see? Visit the ' +\n",
              "            '<a target=\"_blank\" href=https://colab.research.google.com/notebooks/data_table.ipynb>data table notebook</a>'\n",
              "            + ' to learn more about interactive tables.';\n",
              "          element.innerHTML = '';\n",
              "          dataTable['output_type'] = 'display_data';\n",
              "          await google.colab.output.renderOutput(dataTable, element);\n",
              "          const docLink = document.createElement('div');\n",
              "          docLink.innerHTML = docLinkHtml;\n",
              "          element.appendChild(docLink);\n",
              "        }\n",
              "      </script>\n",
              "    </div>\n",
              "  </div>\n",
              "  "
            ]
          },
          "metadata": {}
        }
      ]
    },
    {
      "cell_type": "code",
      "source": [
        "# read Real News Dataset and show it as pandas dataframe\n",
        "real_news_dataset = pd.read_csv('True.csv', parse_dates=['date'], infer_datetime_format = True) # read Real News Dataset \n",
        "display(real_news_dataset)"
      ],
      "metadata": {
        "colab": {
          "base_uri": "https://localhost:8080/",
          "height": 419
        },
        "id": "UI51Y0WGSe01",
        "outputId": "2b23fb2d-2035-4b1a-d5b9-c5c96d33fb68"
      },
      "execution_count": null,
      "outputs": [
        {
          "output_type": "display_data",
          "data": {
            "text/plain": [
              "                                                   title  \\\n",
              "0      As U.S. budget fight looms, Republicans flip t...   \n",
              "1      U.S. military to accept transgender recruits o...   \n",
              "2      Senior U.S. Republican senator: 'Let Mr. Muell...   \n",
              "3      FBI Russia probe helped by Australian diplomat...   \n",
              "4      Trump wants Postal Service to charge 'much mor...   \n",
              "...                                                  ...   \n",
              "21412  'Fully committed' NATO backs new U.S. approach...   \n",
              "21413  LexisNexis withdrew two products from Chinese ...   \n",
              "21414  Minsk cultural hub becomes haven from authorities   \n",
              "21415  Vatican upbeat on possibility of Pope Francis ...   \n",
              "21416  Indonesia to buy $1.14 billion worth of Russia...   \n",
              "\n",
              "                                                    text       subject  \\\n",
              "0      WASHINGTON (Reuters) - The head of a conservat...  politicsNews   \n",
              "1      WASHINGTON (Reuters) - Transgender people will...  politicsNews   \n",
              "2      WASHINGTON (Reuters) - The special counsel inv...  politicsNews   \n",
              "3      WASHINGTON (Reuters) - Trump campaign adviser ...  politicsNews   \n",
              "4      SEATTLE/WASHINGTON (Reuters) - President Donal...  politicsNews   \n",
              "...                                                  ...           ...   \n",
              "21412  BRUSSELS (Reuters) - NATO allies on Tuesday we...     worldnews   \n",
              "21413  LONDON (Reuters) - LexisNexis, a provider of l...     worldnews   \n",
              "21414  MINSK (Reuters) - In the shadow of disused Sov...     worldnews   \n",
              "21415  MOSCOW (Reuters) - Vatican Secretary of State ...     worldnews   \n",
              "21416  JAKARTA (Reuters) - Indonesia will buy 11 Sukh...     worldnews   \n",
              "\n",
              "            date  \n",
              "0     2017-12-31  \n",
              "1     2017-12-29  \n",
              "2     2017-12-31  \n",
              "3     2017-12-30  \n",
              "4     2017-12-29  \n",
              "...          ...  \n",
              "21412 2017-08-22  \n",
              "21413 2017-08-22  \n",
              "21414 2017-08-22  \n",
              "21415 2017-08-22  \n",
              "21416 2017-08-22  \n",
              "\n",
              "[21417 rows x 4 columns]"
            ],
            "text/html": [
              "\n",
              "  <div id=\"df-0440354c-1c3f-45cc-88a1-a8fbc25df021\">\n",
              "    <div class=\"colab-df-container\">\n",
              "      <div>\n",
              "<style scoped>\n",
              "    .dataframe tbody tr th:only-of-type {\n",
              "        vertical-align: middle;\n",
              "    }\n",
              "\n",
              "    .dataframe tbody tr th {\n",
              "        vertical-align: top;\n",
              "    }\n",
              "\n",
              "    .dataframe thead th {\n",
              "        text-align: right;\n",
              "    }\n",
              "</style>\n",
              "<table border=\"1\" class=\"dataframe\">\n",
              "  <thead>\n",
              "    <tr style=\"text-align: right;\">\n",
              "      <th></th>\n",
              "      <th>title</th>\n",
              "      <th>text</th>\n",
              "      <th>subject</th>\n",
              "      <th>date</th>\n",
              "    </tr>\n",
              "  </thead>\n",
              "  <tbody>\n",
              "    <tr>\n",
              "      <th>0</th>\n",
              "      <td>As U.S. budget fight looms, Republicans flip t...</td>\n",
              "      <td>WASHINGTON (Reuters) - The head of a conservat...</td>\n",
              "      <td>politicsNews</td>\n",
              "      <td>2017-12-31</td>\n",
              "    </tr>\n",
              "    <tr>\n",
              "      <th>1</th>\n",
              "      <td>U.S. military to accept transgender recruits o...</td>\n",
              "      <td>WASHINGTON (Reuters) - Transgender people will...</td>\n",
              "      <td>politicsNews</td>\n",
              "      <td>2017-12-29</td>\n",
              "    </tr>\n",
              "    <tr>\n",
              "      <th>2</th>\n",
              "      <td>Senior U.S. Republican senator: 'Let Mr. Muell...</td>\n",
              "      <td>WASHINGTON (Reuters) - The special counsel inv...</td>\n",
              "      <td>politicsNews</td>\n",
              "      <td>2017-12-31</td>\n",
              "    </tr>\n",
              "    <tr>\n",
              "      <th>3</th>\n",
              "      <td>FBI Russia probe helped by Australian diplomat...</td>\n",
              "      <td>WASHINGTON (Reuters) - Trump campaign adviser ...</td>\n",
              "      <td>politicsNews</td>\n",
              "      <td>2017-12-30</td>\n",
              "    </tr>\n",
              "    <tr>\n",
              "      <th>4</th>\n",
              "      <td>Trump wants Postal Service to charge 'much mor...</td>\n",
              "      <td>SEATTLE/WASHINGTON (Reuters) - President Donal...</td>\n",
              "      <td>politicsNews</td>\n",
              "      <td>2017-12-29</td>\n",
              "    </tr>\n",
              "    <tr>\n",
              "      <th>...</th>\n",
              "      <td>...</td>\n",
              "      <td>...</td>\n",
              "      <td>...</td>\n",
              "      <td>...</td>\n",
              "    </tr>\n",
              "    <tr>\n",
              "      <th>21412</th>\n",
              "      <td>'Fully committed' NATO backs new U.S. approach...</td>\n",
              "      <td>BRUSSELS (Reuters) - NATO allies on Tuesday we...</td>\n",
              "      <td>worldnews</td>\n",
              "      <td>2017-08-22</td>\n",
              "    </tr>\n",
              "    <tr>\n",
              "      <th>21413</th>\n",
              "      <td>LexisNexis withdrew two products from Chinese ...</td>\n",
              "      <td>LONDON (Reuters) - LexisNexis, a provider of l...</td>\n",
              "      <td>worldnews</td>\n",
              "      <td>2017-08-22</td>\n",
              "    </tr>\n",
              "    <tr>\n",
              "      <th>21414</th>\n",
              "      <td>Minsk cultural hub becomes haven from authorities</td>\n",
              "      <td>MINSK (Reuters) - In the shadow of disused Sov...</td>\n",
              "      <td>worldnews</td>\n",
              "      <td>2017-08-22</td>\n",
              "    </tr>\n",
              "    <tr>\n",
              "      <th>21415</th>\n",
              "      <td>Vatican upbeat on possibility of Pope Francis ...</td>\n",
              "      <td>MOSCOW (Reuters) - Vatican Secretary of State ...</td>\n",
              "      <td>worldnews</td>\n",
              "      <td>2017-08-22</td>\n",
              "    </tr>\n",
              "    <tr>\n",
              "      <th>21416</th>\n",
              "      <td>Indonesia to buy $1.14 billion worth of Russia...</td>\n",
              "      <td>JAKARTA (Reuters) - Indonesia will buy 11 Sukh...</td>\n",
              "      <td>worldnews</td>\n",
              "      <td>2017-08-22</td>\n",
              "    </tr>\n",
              "  </tbody>\n",
              "</table>\n",
              "<p>21417 rows × 4 columns</p>\n",
              "</div>\n",
              "      <button class=\"colab-df-convert\" onclick=\"convertToInteractive('df-0440354c-1c3f-45cc-88a1-a8fbc25df021')\"\n",
              "              title=\"Convert this dataframe to an interactive table.\"\n",
              "              style=\"display:none;\">\n",
              "        \n",
              "  <svg xmlns=\"http://www.w3.org/2000/svg\" height=\"24px\"viewBox=\"0 0 24 24\"\n",
              "       width=\"24px\">\n",
              "    <path d=\"M0 0h24v24H0V0z\" fill=\"none\"/>\n",
              "    <path d=\"M18.56 5.44l.94 2.06.94-2.06 2.06-.94-2.06-.94-.94-2.06-.94 2.06-2.06.94zm-11 1L8.5 8.5l.94-2.06 2.06-.94-2.06-.94L8.5 2.5l-.94 2.06-2.06.94zm10 10l.94 2.06.94-2.06 2.06-.94-2.06-.94-.94-2.06-.94 2.06-2.06.94z\"/><path d=\"M17.41 7.96l-1.37-1.37c-.4-.4-.92-.59-1.43-.59-.52 0-1.04.2-1.43.59L10.3 9.45l-7.72 7.72c-.78.78-.78 2.05 0 2.83L4 21.41c.39.39.9.59 1.41.59.51 0 1.02-.2 1.41-.59l7.78-7.78 2.81-2.81c.8-.78.8-2.07 0-2.86zM5.41 20L4 18.59l7.72-7.72 1.47 1.35L5.41 20z\"/>\n",
              "  </svg>\n",
              "      </button>\n",
              "      \n",
              "  <style>\n",
              "    .colab-df-container {\n",
              "      display:flex;\n",
              "      flex-wrap:wrap;\n",
              "      gap: 12px;\n",
              "    }\n",
              "\n",
              "    .colab-df-convert {\n",
              "      background-color: #E8F0FE;\n",
              "      border: none;\n",
              "      border-radius: 50%;\n",
              "      cursor: pointer;\n",
              "      display: none;\n",
              "      fill: #1967D2;\n",
              "      height: 32px;\n",
              "      padding: 0 0 0 0;\n",
              "      width: 32px;\n",
              "    }\n",
              "\n",
              "    .colab-df-convert:hover {\n",
              "      background-color: #E2EBFA;\n",
              "      box-shadow: 0px 1px 2px rgba(60, 64, 67, 0.3), 0px 1px 3px 1px rgba(60, 64, 67, 0.15);\n",
              "      fill: #174EA6;\n",
              "    }\n",
              "\n",
              "    [theme=dark] .colab-df-convert {\n",
              "      background-color: #3B4455;\n",
              "      fill: #D2E3FC;\n",
              "    }\n",
              "\n",
              "    [theme=dark] .colab-df-convert:hover {\n",
              "      background-color: #434B5C;\n",
              "      box-shadow: 0px 1px 3px 1px rgba(0, 0, 0, 0.15);\n",
              "      filter: drop-shadow(0px 1px 2px rgba(0, 0, 0, 0.3));\n",
              "      fill: #FFFFFF;\n",
              "    }\n",
              "  </style>\n",
              "\n",
              "      <script>\n",
              "        const buttonEl =\n",
              "          document.querySelector('#df-0440354c-1c3f-45cc-88a1-a8fbc25df021 button.colab-df-convert');\n",
              "        buttonEl.style.display =\n",
              "          google.colab.kernel.accessAllowed ? 'block' : 'none';\n",
              "\n",
              "        async function convertToInteractive(key) {\n",
              "          const element = document.querySelector('#df-0440354c-1c3f-45cc-88a1-a8fbc25df021');\n",
              "          const dataTable =\n",
              "            await google.colab.kernel.invokeFunction('convertToInteractive',\n",
              "                                                     [key], {});\n",
              "          if (!dataTable) return;\n",
              "\n",
              "          const docLinkHtml = 'Like what you see? Visit the ' +\n",
              "            '<a target=\"_blank\" href=https://colab.research.google.com/notebooks/data_table.ipynb>data table notebook</a>'\n",
              "            + ' to learn more about interactive tables.';\n",
              "          element.innerHTML = '';\n",
              "          dataTable['output_type'] = 'display_data';\n",
              "          await google.colab.output.renderOutput(dataTable, element);\n",
              "          const docLink = document.createElement('div');\n",
              "          docLink.innerHTML = docLinkHtml;\n",
              "          element.appendChild(docLink);\n",
              "        }\n",
              "      </script>\n",
              "    </div>\n",
              "  </div>\n",
              "  "
            ]
          },
          "metadata": {}
        }
      ]
    },
    {
      "cell_type": "markdown",
      "source": [
        "By investigating the number of samples contained in each dataset, we can state that they have more or less the same size. This means that by merging the two datasets we can obtain a well-balanced final dataset consisting of both fake and real news."
      ],
      "metadata": {
        "id": "LIQ2o0iMq3po"
      }
    },
    {
      "cell_type": "code",
      "source": [
        "# show lenght of both dataset -> they are balanced\n",
        "print(\"FAKE NEWS DATASET contains \"+str(len(fake_news_dataset))+\" samples.\")\n",
        "print(\"REAL NEWS DATASET contains \"+str(len(real_news_dataset))+\" samples.\\n\")\n",
        "\n",
        "# histogram to show number of sample in the 2 dataset -> balanced\n",
        "plt.figure(figsize=(10, 5))\n",
        "plt.bar('Fake News', len(fake_news_dataset), color='orange')\n",
        "plt.bar('Real News', len(real_news_dataset), color='green')\n",
        "plt.title('Number of Fake News and Real News')\n",
        "plt.xlabel('News Type')\n",
        "plt.ylabel('Number of News')\n"
      ],
      "metadata": {
        "colab": {
          "base_uri": "https://localhost:8080/",
          "height": 422
        },
        "id": "KOf0d8wdUvc_",
        "outputId": "8e411844-7f34-4f5d-9d32-57c1c9fe6eb4"
      },
      "execution_count": null,
      "outputs": [
        {
          "output_type": "stream",
          "name": "stdout",
          "text": [
            "FAKE NEWS DATASET contains 23481 samples.\n",
            "REAL NEWS DATASET contains 21417 samples.\n",
            "\n"
          ]
        },
        {
          "output_type": "execute_result",
          "data": {
            "text/plain": [
              "Text(0, 0.5, 'Number of News')"
            ]
          },
          "metadata": {},
          "execution_count": 9
        },
        {
          "output_type": "display_data",
          "data": {
            "text/plain": [
              "<Figure size 720x360 with 1 Axes>"
            ],
            "image/png": "[encoded data removed]"
          },
          "metadata": {}
        }
      ]
    },
    {
      "cell_type": "markdown",
      "source": [
        "For each dataset, the number of samples with a specific subject or publication date was also studied. \\\n",
        "From the figure below, it can be assumed that the validity of a given news (i.e. whether false or real) does not depend on its subject or publication date. \\\n",
        "The lack of correlation between validity and subject or between validity and publication date makes it reasonable to exclude these features from the dataset: if these two features were preserved, they could adversely affect the accuracy of the classifier we intend to construct. "
      ],
      "metadata": {
        "id": "q3PI_-1Ws6hU"
      }
    },
    {
      "cell_type": "code",
      "source": [
        "# Show distribution of news for their subject topic\n",
        "\n",
        "plt.rcParams['figure.figsize'] = [12, 6]\n",
        "fig, axes = plt.subplots(1,2)\n",
        "fake_news_dataset['subject'].value_counts().plot(ax=axes[0], kind = \"bar\", color='orange')\n",
        "real_news_dataset['subject'].value_counts().plot(ax=axes[1], kind = \"bar\", color='green')\n",
        "plt.suptitle('Subject of Fake News and Real News')\n",
        "axes[0].set_xlabel('Real News Subject')\n",
        "axes[0].set_ylabel('Number of Fake News')\n",
        "axes[1].set_xlabel('Fake News Subject')\n",
        "axes[1].set_ylabel('Number of Fake News')\n"
      ],
      "metadata": {
        "colab": {
          "base_uri": "https://localhost:8080/",
          "height": 534
        },
        "id": "WNxBlKwiV-F0",
        "outputId": "903f4142-1d95-4a3f-87f4-a409a2e550c7"
      },
      "execution_count": null,
      "outputs": [
        {
          "output_type": "execute_result",
          "data": {
            "text/plain": [
              "Text(0, 0.5, 'Number of Fake News')"
            ]
          },
          "metadata": {},
          "execution_count": 10
        },
        {
          "output_type": "display_data",
          "data": {
            "text/plain": [
              "<Figure size 864x432 with 2 Axes>"
            ],
            "image/png": "[encoded data removed]"
          },
          "metadata": {}
        }
      ]
    },
    {
      "cell_type": "code",
      "source": [
        "# Show distribution of news for their pubblication date\n",
        "\n",
        "fig, axes = plt.subplots(1,2)\n",
        "fake_news_dataset['date'].value_counts().plot(ax = axes[0], kind=\"bar\", color='orange')\n",
        "real_news_dataset['date'].value_counts().plot(ax = axes[1], kind=\"bar\", color='green')\n",
        "axes[0].tick_params(labelbottom = False, bottom = False)\n",
        "axes[0].set_xlabel('All news Date')\n",
        "axes[0].set_ylabel('Number of Fake News')\n",
        "axes[1].tick_params(labelbottom = False, bottom = False)\n",
        "axes[1].set_xlabel('All news Date')\n",
        "axes[1].set_ylabel('Number of Real News')\n",
        "plt.suptitle('Date of Fake News and Real News')\n"
      ],
      "metadata": {
        "colab": {
          "base_uri": "https://localhost:8080/",
          "height": 434
        },
        "id": "vzORRYb1bc7G",
        "outputId": "7172d21b-a508-424f-eae5-8ba6a712e8c2"
      },
      "execution_count": null,
      "outputs": [
        {
          "output_type": "execute_result",
          "data": {
            "text/plain": [
              "Text(0.5, 0.98, 'Date of Fake News and Real News')"
            ]
          },
          "metadata": {},
          "execution_count": 11
        },
        {
          "output_type": "display_data",
          "data": {
            "text/plain": [
              "<Figure size 864x432 with 2 Axes>"
            ],
            "image/png": "[encoded data removed]"
          },
          "metadata": {}
        }
      ]
    },
    {
      "cell_type": "markdown",
      "source": [
        "### **2.2. Dataset cleaning**\n",
        "\n",
        "This section describes some preprocessing techniques applied to the avaiable datasets by means of the `PreprocessDataset()` function. This function takes the 2 datasets as input and transforms them through the following steps:\n",
        "\n",
        "1. **Class declaration.** A binary label is assigned to each news article: 0 for fake news and 1 for real news. \n",
        "2. **Datasets merging.** The two datasets, fake news dataset and real news dataset, have been merged into one dataset containing both fake news and real news.\n",
        "3. **Features Dropping.** Fetaures considered unnecessary or misleading (such as subject and date) for the classifier have been removed. \n",
        "4. **Feature Unification.** Title and text column has been unified into a single text feature. \n",
        "5. **Lemmatization.** Using the Lemmatizer provided by the NLTK library each word in the text has been replaced by its lemma when possible. \n",
        "6. **Stop word removal.** Using the list of english stop words, made available by the NLTK library, each stop word present in the text was recognized and removed from the text. \n",
        "7. **Removal of punctuation marks.** All punctuation marks present in the news were recognized by means of a regular expression and removed from the text.\n",
        "8. **Conversion of upper case characters.** All upper case characters were converted to lower case.  \n",
        "\n",
        "When finished, the function returns a final, pre-elaborated dataset cleaned of undesired tokens. "
      ],
      "metadata": {
        "id": "66AtF1X-89Cq"
      }
    },
    {
      "cell_type": "code",
      "source": [
        "\n",
        "stop_words = stopwords.words('english') # load english stop words to recognize it in text\n",
        "lemmatizer = WordNetLemmatizer()        # create Lemmatizer object\n",
        "stemmer    = PorterStemmer()            # create Stemmer object\n",
        "\n",
        "def lemmatize_words(text):\n",
        "  # use NLTK Lemmatizer object to replace each text word with its lemma\n",
        "  return ' '.join(lemmatizer.lemmatize(word) for word in text.split())\n",
        "\n",
        "def stemming_words(text):\n",
        "  # use NLTK Stemmer object to do stemming \n",
        "  return ' '.join(stemmer.stem(word) for word in text.split())\n",
        "\n",
        "def remove_stopwords(text):\n",
        "  # use stop words list to recoginze stop words and remove them from text \n",
        "  return ' '.join([word for word in nltk.word_tokenize(text) if word not in stop_words])\n",
        "\n",
        "def remove_punctuations(text):\n",
        "  # use regex to recoginze punctuation and remove it from text \n",
        "  return re.sub(r'[^\\w\\s]', ' ', text)\n",
        "\n",
        "def PreprocessDataset (dataset1, dataset2):\n",
        "  \n",
        "  # for each dataset add a column to store the target class\n",
        "  dataset1['class'] = 0 # class 0: fake news\n",
        "  dataset2['class'] = 1 # class 1: real news\n",
        "\n",
        "  # merge fake news dataset and real news dataset in a unique dataset \n",
        "  dataset = pd.concat([dataset1, dataset2], ignore_index=True, sort=False)\n",
        "\n",
        "  # delete useless features (like the subject and the data of a news)\n",
        "  dataset.drop(['subject', 'date'], axis=1, inplace=True)\n",
        "\n",
        "  # unify features title and text in a single features\n",
        "  dataset['text'] = dataset['title'] + dataset['text']\n",
        "  dataset.drop('title', axis=1, inplace=True)\n",
        "\n",
        "  # dataset['text'] = dataset['text'].apply(stemming_words)     # apply stemmer [not used in this project]\n",
        "  dataset['text'] = dataset['text'].apply(remove_punctuations)  # apply punctuation remover\n",
        "  dataset['text'] = dataset['text'].apply(lemmatize_words)      # apply lemmatizer\n",
        "  dataset['text'] = dataset['text'].apply(remove_stopwords)     # apply stopword remover\n",
        "  dataset['text'] = dataset['text'].str.lower()                 # apply lower case converter\n",
        "\n",
        "  return dataset"
      ],
      "metadata": {
        "id": "ewRJA2Mc862k"
      },
      "execution_count": null,
      "outputs": []
    },
    {
      "cell_type": "code",
      "source": [
        "news_dataset = PreprocessDataset(fake_news_dataset, real_news_dataset)\n",
        "display(news_dataset)"
      ],
      "metadata": {
        "colab": {
          "base_uri": "https://localhost:8080/",
          "height": 419
        },
        "id": "d9ddcQEqAjhT",
        "outputId": "8932a7a7-b12e-4f95-824f-c9dd529fdce1"
      },
      "execution_count": null,
      "outputs": [
        {
          "output_type": "display_data",
          "data": {
            "text/plain": [
              "                                                    text  class\n",
              "0      donald trump sends out embarrassing new year e...      0\n",
              "1      drunk bragging trump staffer started russian c...      0\n",
              "2      sheriff david clarke becomes an internet joke ...      0\n",
              "3      trump is so obsessed he even has obama name co...      0\n",
              "4      pope francis just called out donald trump duri...      0\n",
              "...                                                  ...    ...\n",
              "44893  fully committed nato back new u s approach afg...      1\n",
              "44894  lexisnexis withdrew two product chinese market...      1\n",
              "44895  minsk cultural hub becomes authoritiesminsk re...      1\n",
              "44896  vatican upbeat possibility pope francis visiti...      1\n",
              "44897  indonesia buy 1 14 billion worth russian jetsj...      1\n",
              "\n",
              "[44898 rows x 2 columns]"
            ],
            "text/html": [
              "\n",
              "  <div id=\"df-6a88eccd-e6e3-4d98-b9ce-5b9fe3babd75\">\n",
              "    <div class=\"colab-df-container\">\n",
              "      <div>\n",
              "<style scoped>\n",
              "    .dataframe tbody tr th:only-of-type {\n",
              "        vertical-align: middle;\n",
              "    }\n",
              "\n",
              "    .dataframe tbody tr th {\n",
              "        vertical-align: top;\n",
              "    }\n",
              "\n",
              "    .dataframe thead th {\n",
              "        text-align: right;\n",
              "    }\n",
              "</style>\n",
              "<table border=\"1\" class=\"dataframe\">\n",
              "  <thead>\n",
              "    <tr style=\"text-align: right;\">\n",
              "      <th></th>\n",
              "      <th>text</th>\n",
              "      <th>class</th>\n",
              "    </tr>\n",
              "  </thead>\n",
              "  <tbody>\n",
              "    <tr>\n",
              "      <th>0</th>\n",
              "      <td>donald trump sends out embarrassing new year e...</td>\n",
              "      <td>0</td>\n",
              "    </tr>\n",
              "    <tr>\n",
              "      <th>1</th>\n",
              "      <td>drunk bragging trump staffer started russian c...</td>\n",
              "      <td>0</td>\n",
              "    </tr>\n",
              "    <tr>\n",
              "      <th>2</th>\n",
              "      <td>sheriff david clarke becomes an internet joke ...</td>\n",
              "      <td>0</td>\n",
              "    </tr>\n",
              "    <tr>\n",
              "      <th>3</th>\n",
              "      <td>trump is so obsessed he even has obama name co...</td>\n",
              "      <td>0</td>\n",
              "    </tr>\n",
              "    <tr>\n",
              "      <th>4</th>\n",
              "      <td>pope francis just called out donald trump duri...</td>\n",
              "      <td>0</td>\n",
              "    </tr>\n",
              "    <tr>\n",
              "      <th>...</th>\n",
              "      <td>...</td>\n",
              "      <td>...</td>\n",
              "    </tr>\n",
              "    <tr>\n",
              "      <th>44893</th>\n",
              "      <td>fully committed nato back new u s approach afg...</td>\n",
              "      <td>1</td>\n",
              "    </tr>\n",
              "    <tr>\n",
              "      <th>44894</th>\n",
              "      <td>lexisnexis withdrew two product chinese market...</td>\n",
              "      <td>1</td>\n",
              "    </tr>\n",
              "    <tr>\n",
              "      <th>44895</th>\n",
              "      <td>minsk cultural hub becomes authoritiesminsk re...</td>\n",
              "      <td>1</td>\n",
              "    </tr>\n",
              "    <tr>\n",
              "      <th>44896</th>\n",
              "      <td>vatican upbeat possibility pope francis visiti...</td>\n",
              "      <td>1</td>\n",
              "    </tr>\n",
              "    <tr>\n",
              "      <th>44897</th>\n",
              "      <td>indonesia buy 1 14 billion worth russian jetsj...</td>\n",
              "      <td>1</td>\n",
              "    </tr>\n",
              "  </tbody>\n",
              "</table>\n",
              "<p>44898 rows × 2 columns</p>\n",
              "</div>\n",
              "      <button class=\"colab-df-convert\" onclick=\"convertToInteractive('df-6a88eccd-e6e3-4d98-b9ce-5b9fe3babd75')\"\n",
              "              title=\"Convert this dataframe to an interactive table.\"\n",
              "              style=\"display:none;\">\n",
              "        \n",
              "  <svg xmlns=\"http://www.w3.org/2000/svg\" height=\"24px\"viewBox=\"0 0 24 24\"\n",
              "       width=\"24px\">\n",
              "    <path d=\"M0 0h24v24H0V0z\" fill=\"none\"/>\n",
              "    <path d=\"M18.56 5.44l.94 2.06.94-2.06 2.06-.94-2.06-.94-.94-2.06-.94 2.06-2.06.94zm-11 1L8.5 8.5l.94-2.06 2.06-.94-2.06-.94L8.5 2.5l-.94 2.06-2.06.94zm10 10l.94 2.06.94-2.06 2.06-.94-2.06-.94-.94-2.06-.94 2.06-2.06.94z\"/><path d=\"M17.41 7.96l-1.37-1.37c-.4-.4-.92-.59-1.43-.59-.52 0-1.04.2-1.43.59L10.3 9.45l-7.72 7.72c-.78.78-.78 2.05 0 2.83L4 21.41c.39.39.9.59 1.41.59.51 0 1.02-.2 1.41-.59l7.78-7.78 2.81-2.81c.8-.78.8-2.07 0-2.86zM5.41 20L4 18.59l7.72-7.72 1.47 1.35L5.41 20z\"/>\n",
              "  </svg>\n",
              "      </button>\n",
              "      \n",
              "  <style>\n",
              "    .colab-df-container {\n",
              "      display:flex;\n",
              "      flex-wrap:wrap;\n",
              "      gap: 12px;\n",
              "    }\n",
              "\n",
              "    .colab-df-convert {\n",
              "      background-color: #E8F0FE;\n",
              "      border: none;\n",
              "      border-radius: 50%;\n",
              "      cursor: pointer;\n",
              "      display: none;\n",
              "      fill: #1967D2;\n",
              "      height: 32px;\n",
              "      padding: 0 0 0 0;\n",
              "      width: 32px;\n",
              "    }\n",
              "\n",
              "    .colab-df-convert:hover {\n",
              "      background-color: #E2EBFA;\n",
              "      box-shadow: 0px 1px 2px rgba(60, 64, 67, 0.3), 0px 1px 3px 1px rgba(60, 64, 67, 0.15);\n",
              "      fill: #174EA6;\n",
              "    }\n",
              "\n",
              "    [theme=dark] .colab-df-convert {\n",
              "      background-color: #3B4455;\n",
              "      fill: #D2E3FC;\n",
              "    }\n",
              "\n",
              "    [theme=dark] .colab-df-convert:hover {\n",
              "      background-color: #434B5C;\n",
              "      box-shadow: 0px 1px 3px 1px rgba(0, 0, 0, 0.15);\n",
              "      filter: drop-shadow(0px 1px 2px rgba(0, 0, 0, 0.3));\n",
              "      fill: #FFFFFF;\n",
              "    }\n",
              "  </style>\n",
              "\n",
              "      <script>\n",
              "        const buttonEl =\n",
              "          document.querySelector('#df-6a88eccd-e6e3-4d98-b9ce-5b9fe3babd75 button.colab-df-convert');\n",
              "        buttonEl.style.display =\n",
              "          google.colab.kernel.accessAllowed ? 'block' : 'none';\n",
              "\n",
              "        async function convertToInteractive(key) {\n",
              "          const element = document.querySelector('#df-6a88eccd-e6e3-4d98-b9ce-5b9fe3babd75');\n",
              "          const dataTable =\n",
              "            await google.colab.kernel.invokeFunction('convertToInteractive',\n",
              "                                                     [key], {});\n",
              "          if (!dataTable) return;\n",
              "\n",
              "          const docLinkHtml = 'Like what you see? Visit the ' +\n",
              "            '<a target=\"_blank\" href=https://colab.research.google.com/notebooks/data_table.ipynb>data table notebook</a>'\n",
              "            + ' to learn more about interactive tables.';\n",
              "          element.innerHTML = '';\n",
              "          dataTable['output_type'] = 'display_data';\n",
              "          await google.colab.output.renderOutput(dataTable, element);\n",
              "          const docLink = document.createElement('div');\n",
              "          docLink.innerHTML = docLinkHtml;\n",
              "          element.appendChild(docLink);\n",
              "        }\n",
              "      </script>\n",
              "    </div>\n",
              "  </div>\n",
              "  "
            ]
          },
          "metadata": {}
        }
      ]
    },
    {
      "cell_type": "markdown",
      "source": [
        "By extracting the textual content of the first sample from the dataset, we can show how the textual features were pre-processed and cleaned as described above: "
      ],
      "metadata": {
        "id": "-1kkKgTfEB2q"
      }
    },
    {
      "cell_type": "code",
      "source": [
        "print(news_dataset.iloc[0]['text'])"
      ],
      "metadata": {
        "colab": {
          "base_uri": "https://localhost:8080/"
        },
        "id": "ddWZYBIxEMwo",
        "outputId": "4645264c-a7fc-4984-8358-7c22d61fc59b"
      },
      "execution_count": null,
      "outputs": [
        {
          "output_type": "stream",
          "name": "stdout",
          "text": [
            "donald trump sends out embarrassing new year eve message this disturbingdonald trump wish americans happy new year leave instead give shout enemy hater dishonest fake news medium the former reality show star one job as country rapidly grows stronger smarter i want wish friend supporter enemy hater even dishonest fake news media happy healthy new year president angry pants tweeted 2018 great year america as country rapidly grows stronger smarter i want wish friend supporter enemy hater even dishonest fake news media happy healthy new year 2018 great year america donald j trump realdonaldtrump december 31 2017trump tweet went welll expect what kind president sends new year greeting like despicable petty infantile gibberish only trump his lack decency even allow rise gutter long enough wish american citizen happy new year bishop talbert swan talbertswan december 31 2017no one like calvin calvinstowell december 31 2017your impeachment would make 2018 great year america i also accept regaining control congress miranda yaver mirandayaver december 31 2017do hear talk when include many people hate wonder why hate alan sandoval alansandoval13 december 31 2017who us word haters new years wish marlene marlene399 december 31 2017you say happy new year koren pollitt korencarpenter december 31 2017here trump new year eve tweet 2016 happy new year including many enemy fought lost badly know love donald j trump realdonaldtrump december 31 2016this nothing new trump he year trump ha directed message enemy hater new year easter thanksgiving anniversary 9 11 pic twitter com 4fpae2kypa daniel dale ddale8 december 31 2017trump holiday tweet clearly presidential how long work hallmark becoming president steven goodine sgoodine december 31 2017he always like difference last year filter ha breaking roy schulze thbthttt december 31 2017who apart teenager us term hater wendy wendywhistles december 31 2017he fucking 5 year old who knows rainyday80 december 31 2017so people voted hole thinking would change got power wrong 70 year old men change year older photo andrew burton getty images\n"
          ]
        }
      ]
    },
    {
      "cell_type": "markdown",
      "source": [
        "### **2.3. Dataset splitting**\n",
        "\n",
        "Once the dataset has been processed, it needs to be split into 3 different portions according to the split proportion 60:20:20. Each part will be used to train, validate or test the model. \\\n",
        "In particular, the training phase is carried out on 60% of the original dataset that will serve as *Training Set (TR)*. The *Validation Set (VL)* is made by 20% of the original dataset and it is used to fine-tune the model. The last 20% of the original dataset, the *Test Set (TS)*, is used to predict the expected label of the news article based on the trained model. \\\n",
        "\n",
        "The splitting has been easly done by SciKit Learn `split_train_test_split` function. \n",
        "\n",
        "However, our deep learning model will not be able to understand words. For this reason, before passing dataset to the model, it is necessary to map each word into an integer.\n",
        "\n",
        "In order to represent words with integers we firstly have to construct a vocabolary of words that occur in our dataset: since create and use a huge vocabolary of all occurring word could be expensive we decide to put in our vocabolary only the 10000 most frequent words. In this way we fix the vocabolary size up to 10000.\n",
        "\n",
        "Our vocabulary will contain 10000 indexed words and we can represent each word with its numeric index.\n",
        "Using word indices, we can map a sequence of words to a sequence of integers; if words not contained in the vocabulary are encountered during the mapping, the OOV (Out Of Vocabulary) token will be used to represent them.\n",
        "\n",
        "In addition, since the obtained integer sequences have different number of components we apply padding to match all lengths (we fix the max lengths of a sequence up to 256).\n",
        "\n",
        "\n",
        "Vocabulary construction, mapping from words to integer and sequence padding has been done using the Keras `tokenizer` object.\n",
        "\n",
        "All this steps are executed by means of `SplitDataset()` function that returns a training set, a validation set and a test set ready for being passed to the model. \n"
      ],
      "metadata": {
        "id": "JETdT9dO-ckB"
      }
    },
    {
      "cell_type": "code",
      "source": [
        "def SplitDataset (dataset, vocab_size, max_lenght):\n",
        "  \n",
        "  features = dataset['text']  # define which column are features\n",
        "  targets  = dataset['class'] # define which column are target class\n",
        "\n",
        "  # dataset = train set (60%) + validation set (20%) + test set (20%)\n",
        "\n",
        "  # split the data in Training set and temporary remaining set\n",
        "  x_train, x_temp, y_train, y_temp = train_test_split(features, targets, train_size=0.6)\n",
        "  # split the data in temporary remaining set in Validation set and Test set\n",
        "  x_val, x_test, y_val, y_test = train_test_split(x_temp, y_temp, test_size=0.5)\n",
        "\n",
        "  # create tokenizer object and fit it to dataset \n",
        "  tokenizer = Tokenizer(num_words = vocab_size,\n",
        "                        oov_token='OOV')\n",
        "  \n",
        "  tokenizer.fit_on_texts(x_train) \n",
        "  tokenizer.fit_on_texts(x_val)\n",
        "  tokenizer.fit_on_texts(x_test)\n",
        "\n",
        "  # trasform text to sequence for data in train, validation and test sets\n",
        "  x_train = tokenizer.texts_to_sequences(x_train)\n",
        "  x_val   = tokenizer.texts_to_sequences(x_val)\n",
        "  x_test  = tokenizer.texts_to_sequences(x_test)\n",
        "\n",
        "  # pad sequence for data in train, validation and test sets\n",
        "  x_train = pad_sequences(x_train, padding='post', maxlen=max_length) # here max_lenght\n",
        "  x_val   = pad_sequences(x_val, padding='post', maxlen=max_length)\n",
        "  x_test  = pad_sequences(x_test, padding='post', maxlen=max_length)\n",
        "\n",
        "  return tokenizer, x_train, x_val, x_test, y_train, y_val, y_test"
      ],
      "metadata": {
        "id": "-3nh8laz_k2F"
      },
      "execution_count": null,
      "outputs": []
    },
    {
      "cell_type": "code",
      "source": [
        "vocab_size = 10000  # vocabolary size fixed to 10.000\n",
        "max_length = 256    # max length of sequence fixed to 256\n",
        "\n",
        "# obtain dataset splitting (TR, VL, TS) and tokenizer object\n",
        "tokenizer_obj, x_tr, x_vl, x_ts, y_tr, y_vl, y_ts = SplitDataset(news_dataset, vocab_size, max_length)\n",
        "\n",
        "print(\"Number of sample in TR: \"+ str(len(x_tr)))\n",
        "temp = y_tr.value_counts()\n",
        "print(\"\\t Number of sample with class 0: \", temp[0])\n",
        "print(\"\\t Number of sample with class 1: \", temp[1])\n",
        "temp = y_vl.value_counts()\n",
        "print(\"\\nNumber of sample in VL: \"+ str(len(x_vl)))\n",
        "print(\"\\t Number of sample with class 0: \", temp[0])\n",
        "print(\"\\t Number of sample with class 1: \", temp[1])\n",
        "temp = y_ts.value_counts()\n",
        "print(\"\\nNumber of sample in TS: \"+ str(len(x_ts)))\n",
        "print(\"\\t Number of sample with class 0: \", temp[0])\n",
        "print(\"\\t Number of sample with class 1: \", temp[1])"
      ],
      "metadata": {
        "colab": {
          "base_uri": "https://localhost:8080/"
        },
        "id": "AYb_QnAdnb-J",
        "outputId": "680c1daa-7018-4ac8-ad6d-ed3b2f72c2ff"
      },
      "execution_count": null,
      "outputs": [
        {
          "output_type": "stream",
          "name": "stdout",
          "text": [
            "Number of sample in TR: 26938\n",
            "\t Number of sample with class 0:  14077\n",
            "\t Number of sample with class 1:  12861\n",
            "\n",
            "Number of sample in VL: 8980\n",
            "\t Number of sample with class 0:  4661\n",
            "\t Number of sample with class 1:  4319\n",
            "\n",
            "Number of sample in TS: 8980\n",
            "\t Number of sample with class 0:  4743\n",
            "\t Number of sample with class 1:  4237\n"
          ]
        }
      ]
    },
    {
      "cell_type": "markdown",
      "source": [
        "Training set, Validation set and Test set are all balanced dataset. "
      ],
      "metadata": {
        "id": "MIvfDxRxjc1x"
      }
    },
    {
      "cell_type": "markdown",
      "source": [
        "## **3. Model Architecture**"
      ],
      "metadata": {
        "id": "Zv-4eHX9s_h7"
      }
    },
    {
      "cell_type": "markdown",
      "source": [
        "### **3.1. Related work**\n",
        "\n",
        "Since the aim of this project is to built a binary classifier able to process textual data to identify fake news article, it is necessary to refer to some deep learning methods for linguistic modelling. \\\n",
        "Deep learning offers different models for fake news detection task: Convolutional Neural Network (CNN) and Recurrent Neural Network (RNN), LSTM and Bidirectional LSTM are all valid architectures to handle this classification problem. \n",
        "For this reason, we need to select an architecture to use among the possible ones. \n",
        "\n",
        "Creating, training and testing all the above architectures to identify the best performing one would have been too time-consuming; in order to select the \"best architecture\" in a smarter way we have referred to a paper presented at the *International Conference on Recent Trends in Advanced Compunting (2019)* titled [Fake News Detection using Bi-directional LSTM-Recurrent Neural Network](https://www.sciencedirect.com/science/article/pii/S1877050920300806) and written by P. Bahad, P. Saxena ,R. Kamal. \n",
        "\n",
        "This paper reports the stages of an experiment carried out to identify which architecture among CNN, Vanilla RNN, LSTM and Bi-directional LSTM is able to achieve higher accuracy score in the evaluation phase for a fake news detection task.\n",
        "\n",
        "All these mentioned models were trained on two different datasets and the obtained results show how a Bi-directional LSTM-RNN model is significantly more effective than the other proposals; it is also able to works well for the balanced and imbalanced high dimensional news dataset. \n",
        "\n",
        "The conclusions drawn in this paper, and reported here,  were the starting point for this project and motivated the decision to to carry out this task throught Bi-directional LSTM architecture.\n",
        "\n",
        "This article also suggested some additional techniques that helps to achive higher performance if they are adopted in model building and training phases:\n",
        "* RMSprop adaptive learning optimization algorithm is recommended to obtain faster convergence and higher accury score;\n",
        "*  Pre-trained GloVe word embeddings could be useful to boost model performance.\n",
        "\n",
        "This supplementary strategy implemented also in this project will be further explored and described in the following subsections."
      ],
      "metadata": {
        "id": "D-uHVfyju1im"
      }
    },
    {
      "cell_type": "markdown",
      "source": [
        "### **3.2. Glove pretrained embeddings**\n",
        "\n",
        "GloVe is an unsupervised learning algorithm for obtaining vector representations for words; its training results in word embeddings that can be used from different model to improve their performance. \n",
        "\n",
        "In this task we will use Glove pre-trained embeddings in the embeddings layer of our model: in particolar, we use Glove embeddings with dimension equal to 50. \n",
        "\n",
        "More in details, we use the implemented `GloveEmbeddings()` function to prepare a Glove embeddings matrix that needs to be passed to our model. [*]\\\n",
        "Given the dataset consisting of words and the corresponding embeddings already trained with the Glove algorithm; the implemented function randomly initializes a matrix of size: vocabulary dimension x embeddings dimension, i.e. 10000 x 50. \n",
        "\n",
        "This Glove embeddings matrix will be updated as follows:\n",
        "- given the i-th word in our vocabulary, the i-th row of the matrix will be replaced by the vector corresponding to the word embeddings of that word;\n",
        "- this procedure is repeated for all the words in the vocabulary;\n",
        "- at the end of the iterations, the function returns the final glove embbeddings matrix, ready to be passed to the model. \n",
        "\n",
        "[*] The guidelines for handling Glove word embbeddings were taken from the GitHub repository [Introduction to Keras](https://github.com/diningphil/Intro_Keras) suggested during the lessons. "
      ],
      "metadata": {
        "id": "KHxwlnabvDim"
      }
    },
    {
      "cell_type": "code",
      "source": [
        "def GloveEmbeddings (tokenizer, vocab_size, embedding_dim ):\n",
        "  \n",
        "  #create a dictionary to map word to its pretrained embedding\n",
        "  word_to_embedding = {} \n",
        "  # we use Glove embedding dimension  = 50\n",
        "  with open(os.path.join('glove.6B.50d.txt'),'r',encoding='utf8') as f:\n",
        "    for line in f.readlines():\n",
        "      # for each word update dictionary with its embeddings\n",
        "      values = line.split()\n",
        "      word = values[0]\n",
        "      emb_vector = np.asarray(values[1:], dtype='float32')\n",
        "      word_to_embedding[word] = emb_vector\n",
        "\n",
        "  id_to_word = tokenizer.index_word # load word index vocabolary\n",
        "  # initiliaze word embeddings matrix (10000 x 50 = vocabolary size x embeddings dimension)\n",
        "  glove_emb_matrix = np.random.randn(vocab_size, embedding_dim)\n",
        "\n",
        "  # for each item in vocabolary \n",
        "  for i in range(1, vocab_size): # start from 1 to skip the 0 value used for padding\n",
        "    # search word in vocabolary by id\n",
        "    w = id_to_word[i]    \n",
        "    #if exisists a pretrained embedding for the given word update glove embedding matrix\n",
        "    if w in word_to_embedding:\n",
        "      glove_emb_matrix[i,:] = word_to_embedding[w]\n",
        "  \n",
        "  return glove_emb_matrix\n",
        "  "
      ],
      "metadata": {
        "id": "FH_SxofAould"
      },
      "execution_count": null,
      "outputs": []
    },
    {
      "cell_type": "code",
      "source": [
        "embedding_dim = 50\n",
        "glove_embeddings_matrix = GloveEmbeddings(tokenizer_obj, vocab_size, embedding_dim)\n",
        "\n",
        "print(\"Glove embeddings matrix:\\n\", glove_embeddings_matrix)\n",
        "print(\"\\nShape Glove embeddinngs matrix: \", glove_embeddings_matrix.shape)"
      ],
      "metadata": {
        "colab": {
          "base_uri": "https://localhost:8080/"
        },
        "id": "wjM5Mswmqhor",
        "outputId": "8b7efaa6-7adc-44e8-8781-a3b12cae1f0d"
      },
      "execution_count": null,
      "outputs": [
        {
          "output_type": "stream",
          "name": "stdout",
          "text": [
            "Glove embeddings matrix:\n",
            " [[ 0.21299428 -0.33613431  0.01565431 ...  1.31779468 -0.45108596\n",
            "  -0.1753735 ]\n",
            " [ 1.31937275 -0.77210781  0.03112927 ...  1.61566304  0.51760194\n",
            "  -0.53535974]\n",
            " [ 0.45769     0.85191     0.31097999 ... -0.74225998  0.77052999\n",
            "   0.26394001]\n",
            " ...\n",
            " [ 1.91059995 -1.24199998 -0.53617001 ...  0.21683    -0.49362001\n",
            "  -1.40890002]\n",
            " [-0.10706    -1.10689998  0.29874    ...  0.10797     0.37204999\n",
            "   0.49700999]\n",
            " [ 0.51941001 -0.2536     -0.13076    ...  1.27139997  0.40898001\n",
            "   0.011436  ]]\n",
            "\n",
            "Shape Glove embeddinngs matrix:  (10000, 50)\n"
          ]
        }
      ]
    },
    {
      "cell_type": "markdown",
      "source": [
        "### **3.3. Model implementation**\n",
        "\n",
        "The following part will describe the architecture of the model used for this fake news detection task. \n",
        "\n",
        "The model is structured on three layers: an input layer, an hidden layer and an output layer.\n",
        "\n",
        "1. **Input layer** \\\n",
        "The input layer is an embedding layer, used to represent each word (represented like an integer) as a vector in a dense space of fixed size. Here, the keras initializer generates tensors with constant values taken from the already computed Glove Embeddings Matrix. \\\n",
        "The input dimension is the size of the vocabulary and the output dimension is the dimension of the embedding. \\\n",
        "Moreover a special attribute is used to remember that the input value 0 is a special \"padding\" value that should be masked out.\n",
        "\n",
        "2. **Hidden layer** \\\n",
        "The hidden layer is a Bi-direction LSTM layer, for which we specify the number of units (that is equal for both forward and backward direction). We add some dropout and recurrent dropout to prevent overfitting. Like in keras deafult, the activation function is the TanH and the recurrent activation function is the sigmoid. Others LSTM and Bi-direction LSTM argument are left unchanged (keras deafult value). \n",
        "\n",
        "3. **Output layer.**\n",
        "The output layer, that is a simple dense layer with 1 unit and sigmoid activation function, maps the values between 0 and 1.\n",
        "\n",
        "This model use RMSprop optimizer (the learning rate needs to be specified), Binary Cross-Entropy as loss function and accuracy as evaluation metric. \n",
        "\n",
        "This architecture was built using Keras through the implemented `BuiltModel()` function. \n",
        "\n",
        "Model training is performed by the `TrainModel()` function. \\\n",
        "In the training phase, the maximum number of epochs and the batch size must be defined. To avoid overfitting, early stop conditions have been added: if the validation loss increases for 2 successive epochs, the training is stopped and the model weights are restored. \\\n",
        "In addition, a useful method was implemented to weight the loss of each samples according to their class. The employment of this method is optional and depends on the Boolean value of the weightloss parameter. It is not currently used and will be explored and described in Section 5.3. "
      ],
      "metadata": {
        "id": "1qpuq3BNvKmW"
      }
    },
    {
      "cell_type": "code",
      "source": [
        "def BuiltModel(vocab_size, embedding_dim, glove_matrix, n_units, learning_rate):\n",
        "  \n",
        "  model = Sequential()\n",
        "  #input layer: Glove Embeddings\n",
        "  model.add(Embedding(vocab_size, \n",
        "                      embedding_dim,\n",
        "                      mask_zero = True,\n",
        "                      embeddings_initializer = Constant(glove_matrix),\n",
        "                      trainable = True))\n",
        "  #hidden layer: Bidirectional LSTM\n",
        "  model.add(Bidirectional(LSTM(units=n_units,\n",
        "                               dropout=0.2,\n",
        "                               recurrent_dropout=0.2,)))\n",
        "  #output layer: Dense\n",
        "  model.add(Dense(1, activation='sigmoid'))\n",
        "\n",
        "  model.compile(loss = tf.keras.losses.BinaryCrossentropy(), #from_logits=True),\n",
        "                optimizer = tf.keras.optimizers.RMSprop(learning_rate),\n",
        "                metrics = ['accuracy'])\n",
        "          \n",
        "  return model\n"
      ],
      "metadata": {
        "id": "y5FjCO6WCQ3c"
      },
      "execution_count": null,
      "outputs": []
    },
    {
      "cell_type": "code",
      "source": [
        "def TrainModel (model, x_train, y_train, x_val, y_val, weightloss, bs, retrain):\n",
        "\n",
        "  # early stopping conditions\n",
        "  early_stop = tf.keras.callbacks.EarlyStopping(monitor='val_loss', # monitor validation loss\n",
        "                                                patience=2,        \n",
        "                                                restore_best_weights=True)\n",
        "  if weightloss == True:\n",
        "    # compute class wights\n",
        "    class_weights = class_weight.compute_class_weight(class_weight = \"balanced\",\n",
        "                                                      classes = np.unique(y_train),\n",
        "                                                      y = y_train)\n",
        "    # store obtained class weight in a dictionary                                                   \n",
        "    class_weights = dict(zip(np.unique(y_train), class_weights))\n",
        "    print(\"The class weights used are:\\n\", class_weights)\n",
        "\n",
        "    #train the model \n",
        "    history = model.fit(x_train, y_train, \n",
        "                        epochs = 10,\n",
        "                        validation_data = (x_val, y_val),\n",
        "                        batch_size = int(bs),\n",
        "                        shuffle = True, \n",
        "                        callbacks = [early_stop],\n",
        "                        class_weight = class_weights)\n",
        "  else:\n",
        "    # train the model\n",
        "    history = model.fit(x_train, y_train, \n",
        "                        epochs = 10,\n",
        "                        validation_data = (x_val, y_val),\n",
        "                        batch_size = int(bs),\n",
        "                        shuffle = True, \n",
        "                        callbacks = [early_stop])\n",
        "  \n",
        "  history_dict = history.history\n",
        "  epoch = history.epoch\n",
        "\n",
        "  if retrain ==True: # if last retrain\n",
        "    return model, history_dict, epoch\n",
        "  else:\n",
        "    return history_dict"
      ],
      "metadata": {
        "id": "b5psvgkcC_YS"
      },
      "execution_count": null,
      "outputs": []
    },
    {
      "cell_type": "markdown",
      "source": [
        "## **4. Model Selection and Model Assestment**"
      ],
      "metadata": {
        "id": "OnNI2Ihevcfq"
      }
    },
    {
      "cell_type": "markdown",
      "source": [
        "Once the model architecture has been outlined, it is necessary to train it with different configurations of hyperparameters and select as the best model the one able to achieve a lower validation loss. \\\n",
        "In this model selection stage, performed with the simple Hold-Out technique, the whole hyper-parameter space was not fully investigated.\n",
        "\n",
        "Early experiments showed that our simple architecture - with 1 embedding layer, 1 bi-directional LSTM layer and 1 output layer - can easily achieve good accuracy/validation loss. \n",
        "In fact, if we use a small number of hidden units (such as 10 units), mini-batch 128 and a default value of the keras learning rate, we already achieve good performance on the validation set. The model seemed just a bit in underfitting and the learning curve a little unstable. \n",
        "\n",
        "For this reason, we decided to pay attention only to the number of units, the value of the learning rate and the size of the mini batch, trying to study the influence of these factors on performance. \n",
        "Therefore, we can state that the grid search carried out is not exhaustive: some configurations not examined due to the long time required for a more complete grid search could have led to the selection of an even better model. \n",
        "\n",
        "In particular, we analyse the behaviour of models with:\n",
        "- number of units equal to 10 or 25;\n",
        "- minibatch size set up to 128;\n",
        "- learning rate of 0.001 or 0.0001;\n",
        "- LSTM droput and recurrent LSTM drop out set up to 0.2-0.2;\n",
        "\n",
        "Exploring these hyperparameter configurations, we select as the best model the one with 10 units and learning rate value 0.001; mini-batch size and dropout are already fixed.\n",
        "This hyper-parameter setting allows us to achieve 99% accuracy during training and validation phase."
      ],
      "metadata": {
        "id": "gh4A5vba5UZR"
      }
    },
    {
      "cell_type": "code",
      "source": [
        "def ModelSelection (x_tr, y_tr, x_vl, y_vl, vocab_size, embedding_dim, glove_embeddings_matrix):\n",
        "  \n",
        "  # hyperparameter configuration = [n° units, batch size, learning rate]\n",
        "  param_config = {0: [25, 128, 0.001],\n",
        "                  1: [25, 128, 0.0001],\n",
        "                  2: [10, 128, 0.001],\n",
        "                  3: [10, 128, 0.0001]}\n",
        "  \n",
        "  model_loss = [] # store here last validation loss otained for each model \n",
        "  \n",
        "  # train a model for each available hyperparameters configuration\n",
        "  for i in range(len(param_config)):\n",
        "    config_value = param_config[i]\n",
        "    print(\"\\nTrain \"+str(i+1)+\"° model with hyperparameter configuration\", config_value)\n",
        "    model = BuiltModel(vocab_size, embedding_dim, glove_embeddings_matrix, config_value[0], config_value[2])\n",
        "    history_dict = TrainModel (model, x_tr, y_tr, x_vl, y_vl, False, config_value[1], False)\n",
        "    val_loss = history_dict['val_loss']\n",
        "    model_loss.append(val_loss[-1])\n",
        "  \n",
        "  # find model with the lowe validation loss\n",
        "  best_loss = min(model_loss)\n",
        "  print(\"\\nThe lower obbtained validation loss is: \"+str(best_loss))\n",
        "  best_config = model_loss.index(best_loss)\n",
        "  \n",
        "  # retrain the best model \n",
        "  config_value = param_config[best_config]\n",
        "  print(\"\\nRetrain best model with hyperparameter configuration:\", config_value)\n",
        "  model = BuiltModel(vocab_size, embedding_dim, glove_embeddings_matrix, config_value[0], config_value[2])\n",
        "  model.summary()\n",
        "  model, history_dict, epoch = TrainModel (model, x_tr, y_tr, x_vl, y_vl, False, config_value[1], True)\n",
        "\n",
        "  return model, history_dict, epoch, config_value\n"
      ],
      "metadata": {
        "id": "1_8QLTF1G6TD"
      },
      "execution_count": null,
      "outputs": []
    },
    {
      "cell_type": "code",
      "source": [
        "BiLSTM, history_dict, epochs, config_value = ModelSelection(x_tr, y_tr, x_vl, y_vl, vocab_size, embedding_dim, glove_embeddings_matrix)\n",
        "\n",
        "acc = history_dict['accuracy']\n",
        "val_acc = history_dict['val_accuracy']\n",
        "loss = history_dict['loss']\n",
        "val_loss = history_dict['val_loss']\n"
      ],
      "metadata": {
        "colab": {
          "base_uri": "https://localhost:8080/"
        },
        "id": "bR8q5sXBUq6P",
        "outputId": "2f7dd914-f1ba-4f8f-c181-9f6e5657f94c"
      },
      "execution_count": null,
      "outputs": [
        {
          "output_type": "stream",
          "name": "stdout",
          "text": [
            "\n",
            "Train 1° model with hyperparameter configuration [25, 128, 0.001]\n",
            "Epoch 1/10\n",
            "211/211 [==============================] - 184s 839ms/step - loss: 0.1982 - accuracy: 0.9271 - val_loss: 0.0873 - val_accuracy: 0.9657\n",
            "Epoch 2/10\n",
            "211/211 [==============================] - 175s 831ms/step - loss: 0.0724 - accuracy: 0.9748 - val_loss: 0.0650 - val_accuracy: 0.9775\n",
            "Epoch 3/10\n",
            "211/211 [==============================] - 175s 829ms/step - loss: 0.0462 - accuracy: 0.9844 - val_loss: 0.0406 - val_accuracy: 0.9864\n",
            "Epoch 4/10\n",
            "211/211 [==============================] - 182s 865ms/step - loss: 0.0330 - accuracy: 0.9890 - val_loss: 0.0355 - val_accuracy: 0.9878\n",
            "Epoch 5/10\n",
            "211/211 [==============================] - 175s 831ms/step - loss: 0.0245 - accuracy: 0.9916 - val_loss: 0.0653 - val_accuracy: 0.9794\n",
            "Epoch 6/10\n",
            "211/211 [==============================] - 179s 851ms/step - loss: 0.0182 - accuracy: 0.9938 - val_loss: 0.0349 - val_accuracy: 0.9908\n",
            "Epoch 7/10\n",
            "211/211 [==============================] - 174s 827ms/step - loss: 0.0140 - accuracy: 0.9952 - val_loss: 0.0261 - val_accuracy: 0.9928\n",
            "Epoch 8/10\n",
            "211/211 [==============================] - 175s 828ms/step - loss: 0.0100 - accuracy: 0.9965 - val_loss: 0.0227 - val_accuracy: 0.9941\n",
            "Epoch 9/10\n",
            "211/211 [==============================] - 174s 824ms/step - loss: 0.0074 - accuracy: 0.9975 - val_loss: 0.0343 - val_accuracy: 0.9898\n",
            "Epoch 10/10\n",
            "211/211 [==============================] - 174s 824ms/step - loss: 0.0053 - accuracy: 0.9981 - val_loss: 0.0254 - val_accuracy: 0.9940\n",
            "\n",
            "Train 2° model with hyperparameter configuration [25, 128, 0.0001]\n",
            "Epoch 1/10\n",
            "211/211 [==============================] - 183s 835ms/step - loss: 0.5865 - accuracy: 0.7555 - val_loss: 0.4394 - val_accuracy: 0.9028\n",
            "Epoch 2/10\n",
            "211/211 [==============================] - 176s 834ms/step - loss: 0.3368 - accuracy: 0.9123 - val_loss: 0.2272 - val_accuracy: 0.9161\n",
            "Epoch 3/10\n",
            "211/211 [==============================] - 176s 835ms/step - loss: 0.2065 - accuracy: 0.9253 - val_loss: 0.1835 - val_accuracy: 0.9284\n",
            "Epoch 4/10\n",
            "211/211 [==============================] - 179s 847ms/step - loss: 0.1712 - accuracy: 0.9362 - val_loss: 0.1580 - val_accuracy: 0.9383\n",
            "Epoch 5/10\n",
            "211/211 [==============================] - 186s 881ms/step - loss: 0.1477 - accuracy: 0.9461 - val_loss: 0.1399 - val_accuracy: 0.9467\n",
            "Epoch 6/10\n",
            "211/211 [==============================] - 182s 864ms/step - loss: 0.1310 - accuracy: 0.9538 - val_loss: 0.1296 - val_accuracy: 0.9519\n",
            "Epoch 7/10\n",
            "211/211 [==============================] - 177s 839ms/step - loss: 0.1173 - accuracy: 0.9582 - val_loss: 0.1138 - val_accuracy: 0.9584\n",
            "Epoch 8/10\n",
            "211/211 [==============================] - 176s 836ms/step - loss: 0.1059 - accuracy: 0.9634 - val_loss: 0.1053 - val_accuracy: 0.9605\n",
            "Epoch 9/10\n",
            "211/211 [==============================] - 177s 837ms/step - loss: 0.0988 - accuracy: 0.9658 - val_loss: 0.1017 - val_accuracy: 0.9634\n",
            "Epoch 10/10\n",
            "211/211 [==============================] - 177s 838ms/step - loss: 0.0897 - accuracy: 0.9695 - val_loss: 0.0902 - val_accuracy: 0.9664\n",
            "\n",
            "Train 3° model with hyperparameter configuration [10, 128, 0.001]\n",
            "Epoch 1/10\n",
            "211/211 [==============================] - 151s 686ms/step - loss: 0.2691 - accuracy: 0.9080 - val_loss: 0.1305 - val_accuracy: 0.9526\n",
            "Epoch 2/10\n",
            "211/211 [==============================] - 144s 683ms/step - loss: 0.0959 - accuracy: 0.9666 - val_loss: 0.0699 - val_accuracy: 0.9756\n",
            "Epoch 3/10\n",
            "211/211 [==============================] - 144s 685ms/step - loss: 0.0584 - accuracy: 0.9799 - val_loss: 0.0502 - val_accuracy: 0.9832\n",
            "Epoch 4/10\n",
            "211/211 [==============================] - 145s 688ms/step - loss: 0.0408 - accuracy: 0.9868 - val_loss: 0.0411 - val_accuracy: 0.9864\n",
            "Epoch 5/10\n",
            "211/211 [==============================] - 144s 682ms/step - loss: 0.0294 - accuracy: 0.9906 - val_loss: 0.0319 - val_accuracy: 0.9892\n",
            "Epoch 6/10\n",
            "211/211 [==============================] - 146s 690ms/step - loss: 0.0228 - accuracy: 0.9925 - val_loss: 0.0330 - val_accuracy: 0.9915\n",
            "Epoch 7/10\n",
            "211/211 [==============================] - 146s 693ms/step - loss: 0.0179 - accuracy: 0.9944 - val_loss: 0.0270 - val_accuracy: 0.9922\n",
            "Epoch 8/10\n",
            "211/211 [==============================] - 146s 694ms/step - loss: 0.0138 - accuracy: 0.9957 - val_loss: 0.0249 - val_accuracy: 0.9922\n",
            "Epoch 9/10\n",
            "211/211 [==============================] - 144s 683ms/step - loss: 0.0101 - accuracy: 0.9968 - val_loss: 0.0313 - val_accuracy: 0.9909\n",
            "Epoch 10/10\n",
            "211/211 [==============================] - 149s 705ms/step - loss: 0.0082 - accuracy: 0.9974 - val_loss: 0.0229 - val_accuracy: 0.9937\n",
            "\n",
            "Train 4° model with hyperparameter configuration [10, 128, 0.0001]\n",
            "Epoch 1/10\n",
            "211/211 [==============================] - 159s 718ms/step - loss: 0.6097 - accuracy: 0.7521 - val_loss: 0.5362 - val_accuracy: 0.8551\n",
            "Epoch 2/10\n",
            "211/211 [==============================] - 150s 711ms/step - loss: 0.4980 - accuracy: 0.8630 - val_loss: 0.4161 - val_accuracy: 0.9020\n",
            "Epoch 3/10\n",
            "211/211 [==============================] - 147s 697ms/step - loss: 0.3846 - accuracy: 0.9051 - val_loss: 0.3087 - val_accuracy: 0.9203\n",
            "Epoch 4/10\n",
            "211/211 [==============================] - 148s 703ms/step - loss: 0.2898 - accuracy: 0.9226 - val_loss: 0.2376 - val_accuracy: 0.9282\n",
            "Epoch 5/10\n",
            "211/211 [==============================] - 149s 708ms/step - loss: 0.2313 - accuracy: 0.9301 - val_loss: 0.2057 - val_accuracy: 0.9284\n",
            "Epoch 6/10\n",
            "211/211 [==============================] - 150s 713ms/step - loss: 0.2012 - accuracy: 0.9342 - val_loss: 0.1869 - val_accuracy: 0.9340\n",
            "Epoch 7/10\n",
            "211/211 [==============================] - 149s 708ms/step - loss: 0.1797 - accuracy: 0.9397 - val_loss: 0.1715 - val_accuracy: 0.9388\n",
            "Epoch 8/10\n",
            "211/211 [==============================] - 150s 713ms/step - loss: 0.1633 - accuracy: 0.9433 - val_loss: 0.1561 - val_accuracy: 0.9448\n",
            "Epoch 9/10\n",
            "211/211 [==============================] - 150s 713ms/step - loss: 0.1493 - accuracy: 0.9492 - val_loss: 0.1406 - val_accuracy: 0.9510\n",
            "Epoch 10/10\n",
            "211/211 [==============================] - 148s 704ms/step - loss: 0.1348 - accuracy: 0.9549 - val_loss: 0.1317 - val_accuracy: 0.9529\n",
            "\n",
            "The lower obbtained validation loss is: 0.022862115874886513\n",
            "\n",
            "Retrain best model with hyperparameter configuration: [10, 128, 0.001]\n",
            "Model: \"sequential_4\"\n",
            "_________________________________________________________________\n",
            " Layer (type)                Output Shape              Param #   \n",
            "=================================================================\n",
            " embedding_4 (Embedding)     (None, None, 50)          500000    \n",
            "                                                                 \n",
            " bidirectional_4 (Bidirectio  (None, 20)               4880      \n",
            " nal)                                                            \n",
            "                                                                 \n",
            " dense_4 (Dense)             (None, 1)                 21        \n",
            "                                                                 \n",
            "=================================================================\n",
            "Total params: 504,901\n",
            "Trainable params: 504,901\n",
            "Non-trainable params: 0\n",
            "_________________________________________________________________\n",
            "Epoch 1/10\n",
            "211/211 [==============================] - 158s 715ms/step - loss: 0.3030 - accuracy: 0.8914 - val_loss: 0.1359 - val_accuracy: 0.9497\n",
            "Epoch 2/10\n",
            "211/211 [==============================] - 149s 706ms/step - loss: 0.1006 - accuracy: 0.9665 - val_loss: 0.0771 - val_accuracy: 0.9739\n",
            "Epoch 3/10\n",
            "211/211 [==============================] - 150s 710ms/step - loss: 0.0625 - accuracy: 0.9792 - val_loss: 0.0536 - val_accuracy: 0.9829\n",
            "Epoch 4/10\n",
            "211/211 [==============================] - 146s 692ms/step - loss: 0.0433 - accuracy: 0.9859 - val_loss: 0.0411 - val_accuracy: 0.9873\n",
            "Epoch 5/10\n",
            "211/211 [==============================] - 145s 689ms/step - loss: 0.0326 - accuracy: 0.9893 - val_loss: 0.0367 - val_accuracy: 0.9890\n",
            "Epoch 6/10\n",
            "211/211 [==============================] - 145s 687ms/step - loss: 0.0254 - accuracy: 0.9919 - val_loss: 0.0309 - val_accuracy: 0.9905\n",
            "Epoch 7/10\n",
            "211/211 [==============================] - 145s 688ms/step - loss: 0.0207 - accuracy: 0.9937 - val_loss: 0.0278 - val_accuracy: 0.9914\n",
            "Epoch 8/10\n",
            "211/211 [==============================] - 145s 686ms/step - loss: 0.0170 - accuracy: 0.9942 - val_loss: 0.0243 - val_accuracy: 0.9919\n",
            "Epoch 9/10\n",
            "211/211 [==============================] - 146s 690ms/step - loss: 0.0124 - accuracy: 0.9961 - val_loss: 0.0245 - val_accuracy: 0.9924\n",
            "Epoch 10/10\n",
            "211/211 [==============================] - 146s 690ms/step - loss: 0.0103 - accuracy: 0.9968 - val_loss: 0.0236 - val_accuracy: 0.9919\n"
          ]
        }
      ]
    },
    {
      "cell_type": "code",
      "source": [
        "# Plot best model learing curve for training and validation\n",
        "fig, (ax1, ax2) = plt.subplots(1,2)\n",
        "fig.suptitle(\"Best model learning curve\", size=20)\n",
        "plt.figure(figsize=(18,12))\n",
        "\n",
        "ax1.plot(epochs, loss, 'ro-', label='Training loss')\n",
        "ax1.plot(epochs, val_loss, 'bo-', label='Validation loss')\n",
        "ax1.set_title('(a) Training and validation loss')\n",
        "ax1.set_xlabel('Epochs')\n",
        "ax1.set_ylabel('Loss')\n",
        "ax1.legend()\n",
        "\n",
        "ax2.plot(epochs, acc, 'ro-', label='Training acc')\n",
        "ax2.plot(epochs, val_acc, 'bo-', label='Validation acc')\n",
        "ax2.set_title('(b) Training and validation accuracy')\n",
        "ax2.set_xlabel('Epochs')\n",
        "ax2.set_ylabel('Accuracy')\n",
        "ax2.legend()\n",
        "plt.show()"
      ],
      "metadata": {
        "colab": {
          "base_uri": "https://localhost:8080/",
          "height": 451
        },
        "id": "ocjFavIe4VAA",
        "outputId": "ff28e42c-1861-4497-992d-f98c91050d5e"
      },
      "execution_count": null,
      "outputs": [
        {
          "output_type": "display_data",
          "data": {
            "text/plain": [
              "<Figure size 864x432 with 2 Axes>"
            ],
            "image/png": "[encoded data removed]"
          },
          "metadata": {}
        },
        {
          "output_type": "display_data",
          "data": {
            "text/plain": [
              "<Figure size 1296x864 with 0 Axes>"
            ]
          },
          "metadata": {}
        }
      ]
    },
    {
      "cell_type": "markdown",
      "source": [
        "In model assestment phase we use simple Hold-Out technique: here, the model has been evaluated based on the its prediction made over the Test set (TS). \\\n",
        "Results show that our model can reach 99% of accuracy in testing phase. "
      ],
      "metadata": {
        "id": "x2WaHs6ACQZQ"
      }
    },
    {
      "cell_type": "code",
      "source": [
        "\n",
        "def ModelAssestment (model, x_test, y_test):\n",
        "  model.evaluate(x_test, y_test)\n",
        "  pred = model.predict(x_test)\n",
        "\n",
        "  binary_predictions = []\n",
        "  for i in pred:\n",
        "      if i >= 0.5:\n",
        "          binary_predictions.append(1)\n",
        "      else:\n",
        "          binary_predictions.append(0) \n",
        "\n",
        "  acc = accuracy_score(binary_predictions, y_test)    # accuracy \n",
        "  pre = precision_score(binary_predictions, y_test)   # precision\n",
        "  rec = recall_score(binary_predictions, y_test)      # recall\n",
        "  c_m = confusion_matrix(binary_predictions, y_test)  # confusion matrix\n",
        "\n",
        "  return acc, pre, rec, c_m"
      ],
      "metadata": {
        "id": "a9BPMTgPYl-v"
      },
      "execution_count": null,
      "outputs": []
    },
    {
      "cell_type": "code",
      "source": [
        "accuracy, precision, recall, confusionmatrix = ModelAssestment(BiLSTM, x_ts, y_ts)\n",
        "print('\\nAccuracy on test set:', accuracy)\n",
        "print('Precision on test set:', precision)\n",
        "print('Recall on test set:', recall, \"\\n\")\n",
        "print('Confusion matrix:')\n",
        "df = pd.DataFrame(confusionmatrix)\n",
        "df.columns = ['Actual Fake News', 'Actual Real News']\n",
        "df = df.rename(columns={'0': 'Actual Fake News', '1':'Actual Real News'}, index={0: 'Predicted Fake News', 1:'Predicted Real News'})\n",
        "display(df)"
      ],
      "metadata": {
        "colab": {
          "base_uri": "https://localhost:8080/",
          "height": 230
        },
        "id": "RHBT5oau26Ah",
        "outputId": "998d006a-d12f-44af-c976-925afc43f091"
      },
      "execution_count": null,
      "outputs": [
        {
          "output_type": "stream",
          "name": "stdout",
          "text": [
            "281/281 [==============================] - 16s 58ms/step - loss: 0.0251 - accuracy: 0.9925\n",
            "\n",
            "Accuracy on test set: 0.9925389755011136\n",
            "Precision on test set: 0.988907245692707\n",
            "Recall on test set: 0.995249406175772 \n",
            "\n",
            "Confusion matrix:\n"
          ]
        },
        {
          "output_type": "display_data",
          "data": {
            "text/plain": [
              "                     Actual Fake News  Actual Real News\n",
              "Predicted Fake News              4723                47\n",
              "Predicted Real News                20              4190"
            ],
            "text/html": [
              "\n",
              "  <div id=\"df-d665560f-0a2c-48ec-9f33-2191739f8300\">\n",
              "    <div class=\"colab-df-container\">\n",
              "      <div>\n",
              "<style scoped>\n",
              "    .dataframe tbody tr th:only-of-type {\n",
              "        vertical-align: middle;\n",
              "    }\n",
              "\n",
              "    .dataframe tbody tr th {\n",
              "        vertical-align: top;\n",
              "    }\n",
              "\n",
              "    .dataframe thead th {\n",
              "        text-align: right;\n",
              "    }\n",
              "</style>\n",
              "<table border=\"1\" class=\"dataframe\">\n",
              "  <thead>\n",
              "    <tr style=\"text-align: right;\">\n",
              "      <th></th>\n",
              "      <th>Actual Fake News</th>\n",
              "      <th>Actual Real News</th>\n",
              "    </tr>\n",
              "  </thead>\n",
              "  <tbody>\n",
              "    <tr>\n",
              "      <th>Predicted Fake News</th>\n",
              "      <td>4723</td>\n",
              "      <td>47</td>\n",
              "    </tr>\n",
              "    <tr>\n",
              "      <th>Predicted Real News</th>\n",
              "      <td>20</td>\n",
              "      <td>4190</td>\n",
              "    </tr>\n",
              "  </tbody>\n",
              "</table>\n",
              "</div>\n",
              "      <button class=\"colab-df-convert\" onclick=\"convertToInteractive('df-d665560f-0a2c-48ec-9f33-2191739f8300')\"\n",
              "              title=\"Convert this dataframe to an interactive table.\"\n",
              "              style=\"display:none;\">\n",
              "        \n",
              "  <svg xmlns=\"http://www.w3.org/2000/svg\" height=\"24px\"viewBox=\"0 0 24 24\"\n",
              "       width=\"24px\">\n",
              "    <path d=\"M0 0h24v24H0V0z\" fill=\"none\"/>\n",
              "    <path d=\"M18.56 5.44l.94 2.06.94-2.06 2.06-.94-2.06-.94-.94-2.06-.94 2.06-2.06.94zm-11 1L8.5 8.5l.94-2.06 2.06-.94-2.06-.94L8.5 2.5l-.94 2.06-2.06.94zm10 10l.94 2.06.94-2.06 2.06-.94-2.06-.94-.94-2.06-.94 2.06-2.06.94z\"/><path d=\"M17.41 7.96l-1.37-1.37c-.4-.4-.92-.59-1.43-.59-.52 0-1.04.2-1.43.59L10.3 9.45l-7.72 7.72c-.78.78-.78 2.05 0 2.83L4 21.41c.39.39.9.59 1.41.59.51 0 1.02-.2 1.41-.59l7.78-7.78 2.81-2.81c.8-.78.8-2.07 0-2.86zM5.41 20L4 18.59l7.72-7.72 1.47 1.35L5.41 20z\"/>\n",
              "  </svg>\n",
              "      </button>\n",
              "      \n",
              "  <style>\n",
              "    .colab-df-container {\n",
              "      display:flex;\n",
              "      flex-wrap:wrap;\n",
              "      gap: 12px;\n",
              "    }\n",
              "\n",
              "    .colab-df-convert {\n",
              "      background-color: #E8F0FE;\n",
              "      border: none;\n",
              "      border-radius: 50%;\n",
              "      cursor: pointer;\n",
              "      display: none;\n",
              "      fill: #1967D2;\n",
              "      height: 32px;\n",
              "      padding: 0 0 0 0;\n",
              "      width: 32px;\n",
              "    }\n",
              "\n",
              "    .colab-df-convert:hover {\n",
              "      background-color: #E2EBFA;\n",
              "      box-shadow: 0px 1px 2px rgba(60, 64, 67, 0.3), 0px 1px 3px 1px rgba(60, 64, 67, 0.15);\n",
              "      fill: #174EA6;\n",
              "    }\n",
              "\n",
              "    [theme=dark] .colab-df-convert {\n",
              "      background-color: #3B4455;\n",
              "      fill: #D2E3FC;\n",
              "    }\n",
              "\n",
              "    [theme=dark] .colab-df-convert:hover {\n",
              "      background-color: #434B5C;\n",
              "      box-shadow: 0px 1px 3px 1px rgba(0, 0, 0, 0.15);\n",
              "      filter: drop-shadow(0px 1px 2px rgba(0, 0, 0, 0.3));\n",
              "      fill: #FFFFFF;\n",
              "    }\n",
              "  </style>\n",
              "\n",
              "      <script>\n",
              "        const buttonEl =\n",
              "          document.querySelector('#df-d665560f-0a2c-48ec-9f33-2191739f8300 button.colab-df-convert');\n",
              "        buttonEl.style.display =\n",
              "          google.colab.kernel.accessAllowed ? 'block' : 'none';\n",
              "\n",
              "        async function convertToInteractive(key) {\n",
              "          const element = document.querySelector('#df-d665560f-0a2c-48ec-9f33-2191739f8300');\n",
              "          const dataTable =\n",
              "            await google.colab.kernel.invokeFunction('convertToInteractive',\n",
              "                                                     [key], {});\n",
              "          if (!dataTable) return;\n",
              "\n",
              "          const docLinkHtml = 'Like what you see? Visit the ' +\n",
              "            '<a target=\"_blank\" href=https://colab.research.google.com/notebooks/data_table.ipynb>data table notebook</a>'\n",
              "            + ' to learn more about interactive tables.';\n",
              "          element.innerHTML = '';\n",
              "          dataTable['output_type'] = 'display_data';\n",
              "          await google.colab.output.renderOutput(dataTable, element);\n",
              "          const docLink = document.createElement('div');\n",
              "          docLink.innerHTML = docLinkHtml;\n",
              "          element.appendChild(docLink);\n",
              "        }\n",
              "      </script>\n",
              "    </div>\n",
              "  </div>\n",
              "  "
            ]
          },
          "metadata": {}
        }
      ]
    },
    {
      "cell_type": "markdown",
      "source": [
        "The confusion matrix illustrates how the model trained on a balanced TR set predict, more or less, the same number of misclassified samples for each class."
      ],
      "metadata": {
        "id": "G8rRDf34Fixr"
      }
    },
    {
      "cell_type": "markdown",
      "source": [
        "\n",
        "### **4.1. Best model: brief overview**\n",
        "\n",
        "\n",
        "| Model Topology |   |\n",
        "|-------|-------------|\n",
        "| | |\n",
        "|  ***(1) INPUT LAYER***|\n",
        "| Layer type | Embeddings layer |\n",
        "| Input dimension | 10000 (Vocabolary size) |\n",
        "| Output dimension | 50 (Embeddings dimension)|\n",
        "| Mask zero | True|\n",
        "| Embeddings initializer | Glove embeddings matrix|\n",
        "| | |\n",
        "| ***(2) HIDDEN LAYER*** |\n",
        "| N°of Hidden layer | 1 |\n",
        "| Layer type | Bi-Directional LSTM |\n",
        "| N° of units in Forward | 10 |\n",
        "| N° of units in Backward | 10 |\n",
        "| LSTM Activation Function | TanH (Keras Default)|\n",
        "| LSTM Recurrent Activation Function | Sigmoid (Keras Default)|\n",
        "| LSTM Drop out - Recurrent Drop Out | 0.2 - 0.2 |\n",
        "| Others LSTM or Bi-LSTM argument | Keras Default |\n",
        "| | |\n",
        "| ***(3) OUTPUT LAYER*** |\n",
        "| Layer type | Dense |\n",
        "| Number of units | 1 |\n",
        "| Activation function | Sigmoid function |\n",
        "\n",
        "\n",
        "\n",
        "| Main Training Features  | | \n",
        "|---------------- | ------|\n",
        "| Optimizer      | RMSprop |\n",
        "|Learning rate (LR)  | 0.001 |\n",
        "|Momentum | False|\n",
        "|Regularization | False|\n",
        "|Other RMSprop parameter | Keras default value|\n",
        "|Mini-batch size  | 128 |\n",
        "|Max n° epochs |  10 |   \n",
        "|Loss Function | Binary Cross-Entropy|\n",
        "|Early stopping (ES)| True\n",
        "|ES monitor | Validation loss\n",
        "|ES Patience | 2 \n",
        "|Loss weighteing | Avaiable but not used |\n",
        "\n",
        "\n",
        "\n",
        "|Model Performance | | | |\n",
        "|------|-------|---|--|\n",
        "|  | **Training** | **Validation** | **Testing** |\n",
        "| Accuracy | 0.996 | 0.991 | 0.992|\n",
        "| Loss | 0.0103|0.0236|0.0251|\n"
      ],
      "metadata": {
        "id": "fCDEkOeR-eto"
      }
    },
    {
      "cell_type": "markdown",
      "source": [
        "## **5. Dealing with imbalanced training set**"
      ],
      "metadata": {
        "id": "g8iiVrqxJTPR"
      }
    },
    {
      "cell_type": "markdown",
      "source": [
        "In the previous section, we observed that the model trained on a well-balanced training set is able to optimally predict the target class of a new example in a balanced test set. \\\n",
        "In this section we want to study the behaviour of the model trained on an imbalanced training set and tested on a balanced test set. \\\n",
        "Next, some strategies will be adopted to make the training robust to imbalances."
      ],
      "metadata": {
        "id": "c3_zptjoJKvw"
      }
    },
    {
      "cell_type": "markdown",
      "source": [
        "### **5.1. Generate imbalanced training set**\n",
        "\n",
        "First of all, we need to create an imbalanced training set in which the number of samples belonging to a certain class is significantly higher than the other. Therefore, we can have a TR set imbalanced towards class 0 (containing more fake news than real news) as well as we can have a TR set imbalanced towards class 1 (containing more real news than fake news). \n",
        "\n",
        "In the production of the imbalanced datasets, particular attention was paid to keeping the size of the new genereted dataset equals to the size of the original training set: this choice was made in order to prevent a different number of samples in the training set from affecting the performance of the model in any way. \n",
        "\n",
        "The `CreateImbalancedDatasets()` function takes the original TR set as input and returns two imbalanced TR set with the same number of samples as the original TR. \\\n",
        "The proportion of samples in the original TR is 50:50 and we want to obtain highly imbalanced TR with proportions 95:5. \\\n",
        "Hence, the following procedure was adopted for the creation of imbalanced TR sets:\n",
        "- the number of samples belonging to one class was increased from 50% to 95%: new samples were generated by means of the `RandomOverSampler()` object provided by the Imbalance Learn library.\n",
        "- The number of samples belonging to the remaining class was decreased from 50% to 5%: some samples were discarted by means of the `RandomUnderSampler()` object provided by the Imbalance Learn library.\n",
        "\n",
        "This procedure finally results in 2 imbalanced TR set:\n",
        "- the 1° TR set imbalanced towards class 1 contains the same number of total samples as the original TR; 95% of this samples belongs to class 1 and 5% belongs to class 0 (thus more real news than fake news).\n",
        "- the 2° TR set imbalanced towards class 0 contains the same number of total samples as the original TR set; 95% of this samples belongs to class 0 and 5% to class 1 (thus more fake news than real news)."
      ],
      "metadata": {
        "id": "dUsVGPx1qfsH"
      }
    },
    {
      "cell_type": "code",
      "source": [
        "import warnings\n",
        "warnings.filterwarnings('ignore')\n",
        "\n",
        "def CreateImbalancedDatasets (x_train, y_train):\n",
        "\n",
        "  counter_sample = y_tr.value_counts()\n",
        "  n_fake, n_real =  counter_sample[0], counter_sample[1]\n",
        "  # goal: obtain an imbalanced training set with more fake news then real news\n",
        "\n",
        "  new_n_fake = 1347   # 5% of total number of samples \n",
        "  new_n_real = 25591  # 95% of total number of samples \n",
        "  \n",
        "  # oversampling class 1 and underampling class 0 \n",
        "  rous_ratio = {0:n_fake, 1:new_n_real}\n",
        "  rous = RandomOverSampler(sampling_strategy = rous_ratio)\n",
        "  x_1, y_1 = rous.fit_resample(x_train, y_train)\n",
        "  rous_ratio = {0:new_n_fake, 1:new_n_real}\n",
        "  rous = RandomUnderSampler(sampling_strategy = rous_ratio)\n",
        "  x_1, y_1 = rous.fit_resample(x_1, y_1)\n",
        "\n",
        "  new_n_fake = 25591 # 95% of total number of samples \n",
        "  new_n_real = 1347 # 5% of total number of samples \n",
        "  \n",
        "  # oversampling class 0 and underampling class 1 \n",
        "  rous_ratio = {0:new_n_fake, 1:n_real}\n",
        "  rous = RandomOverSampler(sampling_strategy = rous_ratio)\n",
        "  x_2, y_2 = rous.fit_resample(x_train, y_train)\n",
        "  rous_ratio = {0:new_n_fake, 1:new_n_real}\n",
        "  rous = RandomUnderSampler(sampling_strategy = rous_ratio)\n",
        "  x_2, y_2 = rous.fit_resample(x_2, y_2)\n",
        "\n",
        "  \n",
        "  return x_1, y_1, x_2, y_2"
      ],
      "metadata": {
        "id": "6Qf8H6oGqXxV"
      },
      "execution_count": null,
      "outputs": []
    },
    {
      "cell_type": "code",
      "source": [
        "x1, y1, x2, y2 = CreateImbalancedDatasets(x_tr, y_tr)\n",
        "\n",
        "print(\"Total number of sample in original TR set: \"+str(len(y_tr)))\n",
        "print(\"Number of sample in each class:\")\n",
        "print(y_tr.value_counts(), \"\\n\")\n",
        "\n",
        "print(\"Total number of sample in 1° imbalanced TR set: \"+str(len(y1)))\n",
        "print(\"Number of sample in each class:\")\n",
        "print(y1.value_counts(), \"\\n\")\n",
        "\n",
        "print(\"Total number of sample in 2° imbalanced TR set: \"+str(len(y2)))\n",
        "print(\"Number of sample in each class:\")\n",
        "print(y2.value_counts(), \"\\n\")\n"
      ],
      "metadata": {
        "id": "X04Xc5_kQGg3",
        "colab": {
          "base_uri": "https://localhost:8080/"
        },
        "outputId": "b7a5f5e8-6ff6-44af-9f34-3d1a9e07c278"
      },
      "execution_count": null,
      "outputs": [
        {
          "output_type": "stream",
          "name": "stdout",
          "text": [
            "Total number of sample in original TR set: 26938\n",
            "Number of sample in each class:\n",
            "0    14077\n",
            "1    12861\n",
            "Name: class, dtype: int64 \n",
            "\n",
            "Total number of sample in 1° imbalanced TR set: 26938\n",
            "Number of sample in each class:\n",
            "1    25591\n",
            "0     1347\n",
            "Name: class, dtype: int64 \n",
            "\n",
            "Total number of sample in 2° imbalanced TR set: 26938\n",
            "Number of sample in each class:\n",
            "0    25591\n",
            "1     1347\n",
            "Name: class, dtype: int64 \n",
            "\n"
          ]
        }
      ]
    },
    {
      "cell_type": "code",
      "source": [
        "# show pie graph of different TR proportion\n",
        "fig, axs = plt.subplots(ncols=3, figsize=(15, 5))\n",
        "y_tr.value_counts().plot.pie(autopct=\"%.2f\", ax=axs[0])\n",
        "axs[0].set_title(\"Original TR\")\n",
        "y1.value_counts().plot.pie(autopct=\"%.2f\", ax=axs[1])\n",
        "axs[1].set_title(\"1° Imbalanced TR\")\n",
        "y2.value_counts().plot.pie(autopct=\"%.2f\", ax=axs[2])\n",
        "axs[2].set_title(\"2° Imbalanced TR\")\n",
        "fig.tight_layout()"
      ],
      "metadata": {
        "id": "txE8bTLzZ5bL",
        "colab": {
          "base_uri": "https://localhost:8080/",
          "height": 376
        },
        "outputId": "5d4134bb-412d-4517-a7f1-b9e367db2244"
      },
      "execution_count": null,
      "outputs": [
        {
          "output_type": "display_data",
          "data": {
            "text/plain": [
              "<Figure size 1080x360 with 3 Axes>"
            ],
            "image/png": "[encoded data removed]"
          },
          "metadata": {}
        }
      ]
    },
    {
      "cell_type": "markdown",
      "source": [
        "### **5.2. Evaluate model trained with imbalanced training set**\n",
        "\n",
        "Given the best hyper-parameter configuration found in Section 4, the best model was trained in parallel on each one of the 2 imbalanced TR sets and tested on the balanced TS created in Section 2.3 and previously used in model assestment. \n",
        "\n"
      ],
      "metadata": {
        "id": "gob-vlWTqYnD"
      }
    },
    {
      "cell_type": "code",
      "source": [
        "# Train model on TR set with more real news than fake news\n",
        "print(\"Training phase\")\n",
        "model1 = BuiltModel(vocab_size, embedding_dim, glove_embeddings_matrix, config_value[0], config_value[2])\n",
        "model1, history_dict1, epoch1 = TrainModel (model1, x1, y1, x_vl, y_vl, False, config_value[1], True)\n",
        "print(\"Testing phase\")\n",
        "accuracy1, precision1, recall1, confusionmatrix1 = ModelAssestment(model1, x_ts, y_ts)\n",
        "print('\\nAccuracy on test set:', accuracy1)\n",
        "print('Precision on test set:', precision1)\n",
        "print('Recall on test set:', recall1, \"\\n\")\n",
        "print('Confusion matrix:')\n",
        "df = pd.DataFrame(confusionmatrix1)\n",
        "df.columns = ['Actual Fake News', 'Actual Real News']\n",
        "df = df.rename(columns={'0': 'Actual Fake News', '1':'Actual Real News'}, index={0: 'Predicted Fake News', 1:'Predicted Real News'})\n",
        "display(df)"
      ],
      "metadata": {
        "colab": {
          "base_uri": "https://localhost:8080/",
          "height": 536
        },
        "id": "g4ga-JfXbuKn",
        "outputId": "99ef0612-5b6b-455b-ce37-7c1b076fde69"
      },
      "execution_count": null,
      "outputs": [
        {
          "output_type": "stream",
          "name": "stdout",
          "text": [
            "Training phase\n",
            "Epoch 1/10\n",
            "211/211 [==============================] - 153s 693ms/step - loss: 0.1623 - accuracy: 0.9459 - val_loss: 0.5130 - val_accuracy: 0.7891\n",
            "Epoch 2/10\n",
            "211/211 [==============================] - 145s 686ms/step - loss: 0.0463 - accuracy: 0.9842 - val_loss: 0.2444 - val_accuracy: 0.9085\n",
            "Epoch 3/10\n",
            "211/211 [==============================] - 142s 674ms/step - loss: 0.0300 - accuracy: 0.9903 - val_loss: 0.1908 - val_accuracy: 0.9347\n",
            "Epoch 4/10\n",
            "211/211 [==============================] - 143s 676ms/step - loss: 0.0202 - accuracy: 0.9934 - val_loss: 0.1472 - val_accuracy: 0.9521\n",
            "Epoch 5/10\n",
            "211/211 [==============================] - 143s 676ms/step - loss: 0.0137 - accuracy: 0.9957 - val_loss: 0.1087 - val_accuracy: 0.9643\n",
            "Epoch 6/10\n",
            "211/211 [==============================] - 143s 678ms/step - loss: 0.0096 - accuracy: 0.9971 - val_loss: 0.0994 - val_accuracy: 0.9705\n",
            "Epoch 7/10\n",
            "211/211 [==============================] - 142s 674ms/step - loss: 0.0075 - accuracy: 0.9978 - val_loss: 0.1141 - val_accuracy: 0.9678\n",
            "Epoch 8/10\n",
            "211/211 [==============================] - 143s 677ms/step - loss: 0.0050 - accuracy: 0.9984 - val_loss: 0.1284 - val_accuracy: 0.9622\n",
            "Testing phase\n",
            "281/281 [==============================] - 17s 59ms/step - loss: 0.0980 - accuracy: 0.9709\n",
            "\n",
            "Accuracy on test set: 0.9709354120267261\n",
            "Precision on test set: 0.9962237432145385\n",
            "Recall on test set: 0.945141065830721 \n",
            "\n",
            "Confusion matrix:\n"
          ]
        },
        {
          "output_type": "display_data",
          "data": {
            "text/plain": [
              "                     Actual Fake News  Actual Real News\n",
              "Predicted Fake News              4498                16\n",
              "Predicted Real News               245              4221"
            ],
            "text/html": [
              "\n",
              "  <div id=\"df-48d00027-e282-48e5-a8b0-c2c63f256322\">\n",
              "    <div class=\"colab-df-container\">\n",
              "      <div>\n",
              "<style scoped>\n",
              "    .dataframe tbody tr th:only-of-type {\n",
              "        vertical-align: middle;\n",
              "    }\n",
              "\n",
              "    .dataframe tbody tr th {\n",
              "        vertical-align: top;\n",
              "    }\n",
              "\n",
              "    .dataframe thead th {\n",
              "        text-align: right;\n",
              "    }\n",
              "</style>\n",
              "<table border=\"1\" class=\"dataframe\">\n",
              "  <thead>\n",
              "    <tr style=\"text-align: right;\">\n",
              "      <th></th>\n",
              "      <th>Actual Fake News</th>\n",
              "      <th>Actual Real News</th>\n",
              "    </tr>\n",
              "  </thead>\n",
              "  <tbody>\n",
              "    <tr>\n",
              "      <th>Predicted Fake News</th>\n",
              "      <td>4498</td>\n",
              "      <td>16</td>\n",
              "    </tr>\n",
              "    <tr>\n",
              "      <th>Predicted Real News</th>\n",
              "      <td>245</td>\n",
              "      <td>4221</td>\n",
              "    </tr>\n",
              "  </tbody>\n",
              "</table>\n",
              "</div>\n",
              "      <button class=\"colab-df-convert\" onclick=\"convertToInteractive('df-48d00027-e282-48e5-a8b0-c2c63f256322')\"\n",
              "              title=\"Convert this dataframe to an interactive table.\"\n",
              "              style=\"display:none;\">\n",
              "        \n",
              "  <svg xmlns=\"http://www.w3.org/2000/svg\" height=\"24px\"viewBox=\"0 0 24 24\"\n",
              "       width=\"24px\">\n",
              "    <path d=\"M0 0h24v24H0V0z\" fill=\"none\"/>\n",
              "    <path d=\"M18.56 5.44l.94 2.06.94-2.06 2.06-.94-2.06-.94-.94-2.06-.94 2.06-2.06.94zm-11 1L8.5 8.5l.94-2.06 2.06-.94-2.06-.94L8.5 2.5l-.94 2.06-2.06.94zm10 10l.94 2.06.94-2.06 2.06-.94-2.06-.94-.94-2.06-.94 2.06-2.06.94z\"/><path d=\"M17.41 7.96l-1.37-1.37c-.4-.4-.92-.59-1.43-.59-.52 0-1.04.2-1.43.59L10.3 9.45l-7.72 7.72c-.78.78-.78 2.05 0 2.83L4 21.41c.39.39.9.59 1.41.59.51 0 1.02-.2 1.41-.59l7.78-7.78 2.81-2.81c.8-.78.8-2.07 0-2.86zM5.41 20L4 18.59l7.72-7.72 1.47 1.35L5.41 20z\"/>\n",
              "  </svg>\n",
              "      </button>\n",
              "      \n",
              "  <style>\n",
              "    .colab-df-container {\n",
              "      display:flex;\n",
              "      flex-wrap:wrap;\n",
              "      gap: 12px;\n",
              "    }\n",
              "\n",
              "    .colab-df-convert {\n",
              "      background-color: #E8F0FE;\n",
              "      border: none;\n",
              "      border-radius: 50%;\n",
              "      cursor: pointer;\n",
              "      display: none;\n",
              "      fill: #1967D2;\n",
              "      height: 32px;\n",
              "      padding: 0 0 0 0;\n",
              "      width: 32px;\n",
              "    }\n",
              "\n",
              "    .colab-df-convert:hover {\n",
              "      background-color: #E2EBFA;\n",
              "      box-shadow: 0px 1px 2px rgba(60, 64, 67, 0.3), 0px 1px 3px 1px rgba(60, 64, 67, 0.15);\n",
              "      fill: #174EA6;\n",
              "    }\n",
              "\n",
              "    [theme=dark] .colab-df-convert {\n",
              "      background-color: #3B4455;\n",
              "      fill: #D2E3FC;\n",
              "    }\n",
              "\n",
              "    [theme=dark] .colab-df-convert:hover {\n",
              "      background-color: #434B5C;\n",
              "      box-shadow: 0px 1px 3px 1px rgba(0, 0, 0, 0.15);\n",
              "      filter: drop-shadow(0px 1px 2px rgba(0, 0, 0, 0.3));\n",
              "      fill: #FFFFFF;\n",
              "    }\n",
              "  </style>\n",
              "\n",
              "      <script>\n",
              "        const buttonEl =\n",
              "          document.querySelector('#df-48d00027-e282-48e5-a8b0-c2c63f256322 button.colab-df-convert');\n",
              "        buttonEl.style.display =\n",
              "          google.colab.kernel.accessAllowed ? 'block' : 'none';\n",
              "\n",
              "        async function convertToInteractive(key) {\n",
              "          const element = document.querySelector('#df-48d00027-e282-48e5-a8b0-c2c63f256322');\n",
              "          const dataTable =\n",
              "            await google.colab.kernel.invokeFunction('convertToInteractive',\n",
              "                                                     [key], {});\n",
              "          if (!dataTable) return;\n",
              "\n",
              "          const docLinkHtml = 'Like what you see? Visit the ' +\n",
              "            '<a target=\"_blank\" href=https://colab.research.google.com/notebooks/data_table.ipynb>data table notebook</a>'\n",
              "            + ' to learn more about interactive tables.';\n",
              "          element.innerHTML = '';\n",
              "          dataTable['output_type'] = 'display_data';\n",
              "          await google.colab.output.renderOutput(dataTable, element);\n",
              "          const docLink = document.createElement('div');\n",
              "          docLink.innerHTML = docLinkHtml;\n",
              "          element.appendChild(docLink);\n",
              "        }\n",
              "      </script>\n",
              "    </div>\n",
              "  </div>\n",
              "  "
            ]
          },
          "metadata": {}
        }
      ]
    },
    {
      "cell_type": "code",
      "source": [
        "# Train model on TR set with more fake news than real news\n",
        "print(\"Training phase\")\n",
        "model2 = BuiltModel(vocab_size, embedding_dim, glove_embeddings_matrix, config_value[0], config_value[2])\n",
        "model2, history_dict2, epoch2 = TrainModel (model2, x2, y2, x_vl, y_vl, False, config_value[1], True)\n",
        "print(\"Testing phase\")\n",
        "accuracy2, precision2, recall2, confusionmatrix2 = ModelAssestment(model2, x_ts, y_ts)\n",
        "print('\\nAccuracy on test set:', accuracy2)\n",
        "print('Precision on test set:', precision2)\n",
        "print('Recall on test set:', recall2, \"\\n\")\n",
        "print('Confusion matrix:')\n",
        "df = pd.DataFrame(confusionmatrix2)\n",
        "df.columns = ['Actual Fake News', 'Actual Real News']\n",
        "df = df.rename(columns={'0': 'Actual Fake News', '1':'Actual Real News'}, index={0: 'Predicted Fake News', 1:'Predicted Real News'})\n",
        "display(df)"
      ],
      "metadata": {
        "id": "XZjBz6q-tTB9",
        "colab": {
          "base_uri": "https://localhost:8080/",
          "height": 502
        },
        "outputId": "28a25001-eee1-4a45-9527-8ace5b8bd38a"
      },
      "execution_count": null,
      "outputs": [
        {
          "output_type": "stream",
          "name": "stdout",
          "text": [
            "Training phase\n",
            "Epoch 1/10\n",
            "211/211 [==============================] - 199s 759ms/step - loss: 0.1590 - accuracy: 0.9549 - val_loss: 0.4438 - val_accuracy: 0.8437\n",
            "Epoch 2/10\n",
            "211/211 [==============================] - 150s 709ms/step - loss: 0.0525 - accuracy: 0.9829 - val_loss: 0.2904 - val_accuracy: 0.8988\n",
            "Epoch 3/10\n",
            "211/211 [==============================] - 147s 697ms/step - loss: 0.0337 - accuracy: 0.9903 - val_loss: 0.2558 - val_accuracy: 0.9089\n",
            "Epoch 4/10\n",
            "211/211 [==============================] - 147s 697ms/step - loss: 0.0224 - accuracy: 0.9930 - val_loss: 0.1515 - val_accuracy: 0.9473\n",
            "Epoch 5/10\n",
            "211/211 [==============================] - 146s 693ms/step - loss: 0.0161 - accuracy: 0.9953 - val_loss: 0.1309 - val_accuracy: 0.9555\n",
            "Epoch 6/10\n",
            "211/211 [==============================] - 146s 693ms/step - loss: 0.0121 - accuracy: 0.9960 - val_loss: 0.1985 - val_accuracy: 0.9384\n",
            "Epoch 7/10\n",
            "211/211 [==============================] - 146s 691ms/step - loss: 0.0088 - accuracy: 0.9974 - val_loss: 0.1734 - val_accuracy: 0.9442\n",
            "Testing phase\n",
            "281/281 [==============================] - 17s 59ms/step - loss: 0.1368 - accuracy: 0.9545\n",
            "\n",
            "Accuracy on test set: 0.9544543429844098\n",
            "Precision on test set: 0.9046495161670993\n",
            "Recall on test set: 0.9986972381448671 \n",
            "\n",
            "Confusion matrix:\n"
          ]
        },
        {
          "output_type": "display_data",
          "data": {
            "text/plain": [
              "                     Actual Fake News  Actual Real News\n",
              "Predicted Fake News              4738               404\n",
              "Predicted Real News                 5              3833"
            ],
            "text/html": [
              "\n",
              "  <div id=\"df-b0d6c6da-4cda-494c-bfeb-f952f6e2885f\">\n",
              "    <div class=\"colab-df-container\">\n",
              "      <div>\n",
              "<style scoped>\n",
              "    .dataframe tbody tr th:only-of-type {\n",
              "        vertical-align: middle;\n",
              "    }\n",
              "\n",
              "    .dataframe tbody tr th {\n",
              "        vertical-align: top;\n",
              "    }\n",
              "\n",
              "    .dataframe thead th {\n",
              "        text-align: right;\n",
              "    }\n",
              "</style>\n",
              "<table border=\"1\" class=\"dataframe\">\n",
              "  <thead>\n",
              "    <tr style=\"text-align: right;\">\n",
              "      <th></th>\n",
              "      <th>Actual Fake News</th>\n",
              "      <th>Actual Real News</th>\n",
              "    </tr>\n",
              "  </thead>\n",
              "  <tbody>\n",
              "    <tr>\n",
              "      <th>Predicted Fake News</th>\n",
              "      <td>4738</td>\n",
              "      <td>404</td>\n",
              "    </tr>\n",
              "    <tr>\n",
              "      <th>Predicted Real News</th>\n",
              "      <td>5</td>\n",
              "      <td>3833</td>\n",
              "    </tr>\n",
              "  </tbody>\n",
              "</table>\n",
              "</div>\n",
              "      <button class=\"colab-df-convert\" onclick=\"convertToInteractive('df-b0d6c6da-4cda-494c-bfeb-f952f6e2885f')\"\n",
              "              title=\"Convert this dataframe to an interactive table.\"\n",
              "              style=\"display:none;\">\n",
              "        \n",
              "  <svg xmlns=\"http://www.w3.org/2000/svg\" height=\"24px\"viewBox=\"0 0 24 24\"\n",
              "       width=\"24px\">\n",
              "    <path d=\"M0 0h24v24H0V0z\" fill=\"none\"/>\n",
              "    <path d=\"M18.56 5.44l.94 2.06.94-2.06 2.06-.94-2.06-.94-.94-2.06-.94 2.06-2.06.94zm-11 1L8.5 8.5l.94-2.06 2.06-.94-2.06-.94L8.5 2.5l-.94 2.06-2.06.94zm10 10l.94 2.06.94-2.06 2.06-.94-2.06-.94-.94-2.06-.94 2.06-2.06.94z\"/><path d=\"M17.41 7.96l-1.37-1.37c-.4-.4-.92-.59-1.43-.59-.52 0-1.04.2-1.43.59L10.3 9.45l-7.72 7.72c-.78.78-.78 2.05 0 2.83L4 21.41c.39.39.9.59 1.41.59.51 0 1.02-.2 1.41-.59l7.78-7.78 2.81-2.81c.8-.78.8-2.07 0-2.86zM5.41 20L4 18.59l7.72-7.72 1.47 1.35L5.41 20z\"/>\n",
              "  </svg>\n",
              "      </button>\n",
              "      \n",
              "  <style>\n",
              "    .colab-df-container {\n",
              "      display:flex;\n",
              "      flex-wrap:wrap;\n",
              "      gap: 12px;\n",
              "    }\n",
              "\n",
              "    .colab-df-convert {\n",
              "      background-color: #E8F0FE;\n",
              "      border: none;\n",
              "      border-radius: 50%;\n",
              "      cursor: pointer;\n",
              "      display: none;\n",
              "      fill: #1967D2;\n",
              "      height: 32px;\n",
              "      padding: 0 0 0 0;\n",
              "      width: 32px;\n",
              "    }\n",
              "\n",
              "    .colab-df-convert:hover {\n",
              "      background-color: #E2EBFA;\n",
              "      box-shadow: 0px 1px 2px rgba(60, 64, 67, 0.3), 0px 1px 3px 1px rgba(60, 64, 67, 0.15);\n",
              "      fill: #174EA6;\n",
              "    }\n",
              "\n",
              "    [theme=dark] .colab-df-convert {\n",
              "      background-color: #3B4455;\n",
              "      fill: #D2E3FC;\n",
              "    }\n",
              "\n",
              "    [theme=dark] .colab-df-convert:hover {\n",
              "      background-color: #434B5C;\n",
              "      box-shadow: 0px 1px 3px 1px rgba(0, 0, 0, 0.15);\n",
              "      filter: drop-shadow(0px 1px 2px rgba(0, 0, 0, 0.3));\n",
              "      fill: #FFFFFF;\n",
              "    }\n",
              "  </style>\n",
              "\n",
              "      <script>\n",
              "        const buttonEl =\n",
              "          document.querySelector('#df-b0d6c6da-4cda-494c-bfeb-f952f6e2885f button.colab-df-convert');\n",
              "        buttonEl.style.display =\n",
              "          google.colab.kernel.accessAllowed ? 'block' : 'none';\n",
              "\n",
              "        async function convertToInteractive(key) {\n",
              "          const element = document.querySelector('#df-b0d6c6da-4cda-494c-bfeb-f952f6e2885f');\n",
              "          const dataTable =\n",
              "            await google.colab.kernel.invokeFunction('convertToInteractive',\n",
              "                                                     [key], {});\n",
              "          if (!dataTable) return;\n",
              "\n",
              "          const docLinkHtml = 'Like what you see? Visit the ' +\n",
              "            '<a target=\"_blank\" href=https://colab.research.google.com/notebooks/data_table.ipynb>data table notebook</a>'\n",
              "            + ' to learn more about interactive tables.';\n",
              "          element.innerHTML = '';\n",
              "          dataTable['output_type'] = 'display_data';\n",
              "          await google.colab.output.renderOutput(dataTable, element);\n",
              "          const docLink = document.createElement('div');\n",
              "          docLink.innerHTML = docLinkHtml;\n",
              "          element.appendChild(docLink);\n",
              "        }\n",
              "      </script>\n",
              "    </div>\n",
              "  </div>\n",
              "  "
            ]
          },
          "metadata": {}
        }
      ]
    },
    {
      "cell_type": "markdown",
      "source": [
        "As can be seen from the results obtained here, the model's performance in the predictive phase gets worse if it has been trained on imbalanced TR set. The model trained in this way tends to go into overfitting early: more specifically, the model loses its ability to generalize well over new data.\n",
        "To confirm this, we can observe that early stopping comes into action in both cases when the validation loss begins to increase, thus interrupting the subsequent training epochs.   \n",
        "However, as the accuracy never falls below 0.9, we can say that the implemented model is already quite robust to highly imbalanced datasets. \\\n",
        "\n",
        "Looking at the obtained confusion matrices, we can easily state that the greater number of incorrect predictions are made on samples belonging to the under-represented class; these samples are misclassified with samples coming from the most represented class. "
      ],
      "metadata": {
        "id": "6oRKZR1FtUE5"
      }
    },
    {
      "cell_type": "markdown",
      "source": [
        "### **5.3. Improving model robustness by weighting loss function**"
      ],
      "metadata": {
        "id": "6Vdzjo1jsP-S"
      }
    },
    {
      "cell_type": "markdown",
      "source": [
        "In this section we want to present a strategy to try to raise the final performance of the model when trained on imbalanced datasets; in other words, we want to make the model robust to imbalanced TR sets. \n",
        "\n",
        "Our goal is to tell the model to pay more attention to samples coming from an under-represented class during training phase: we can do this by passing to the `model.fit()` function the `class_weight` attribute: this attribute's value is a dictionary that maps class indices (integers) to a weight (float) value, used for weighting the loss function (during training only).\n",
        "\n",
        "To get a dictionary of class weights, we must first calculate the respective weights of each class: these weights are computed using the `compute_class_weight()` function imported from the SciKit Learn library. They are given by dividing the total number of samples by the product between the number of classes and number of occurrences of each value in the list of samples target class. \n",
        "\n",
        "We can use this strategy by passing the attribute `weightloss == True` when calling the `TrainModel()` function, and the following piece of code will be executed. \n",
        "\n",
        "```python\n",
        "if weightloss == True:\n",
        "    # compute class wights\n",
        "    class_weights = class_weight.compute_class_weight(class_weight = \"balanced\",\n",
        "                                                      classes = np.unique(y_train),\n",
        "                                                      y = y_train)\n",
        "    # store obtained class weight in a dictionary                                                   \n",
        "    class_weights = dict(zip(np.unique(y_train), class_weights))\n",
        "    print(\"The class weights used are:\\n\", class_weights)\n",
        "\n",
        "    #train the model \n",
        "    history = model.fit(x_train, y_train, \n",
        "                        epochs = 10,\n",
        "                        validation_data = (x_val, y_val),\n",
        "                        batch_size = int(bs),\n",
        "                        shuffle = True, \n",
        "                        callbacks = [early_stop],\n",
        "                        class_weight = class_weights) # here we pass class_weight\n",
        "```\n",
        "\n",
        "We report here the results obtained by training the model on both imbalanced training sets using the loss weighting technique. "
      ],
      "metadata": {
        "id": "CY3FE-3tuNfd"
      }
    },
    {
      "cell_type": "code",
      "source": [
        "# Train model on TR set with more real news than fake news\n",
        "print(\"Training phase\")\n",
        "model1 = BuiltModel(vocab_size, embedding_dim, glove_embeddings_matrix, config_value[0], config_value[2])\n",
        "model1, history_dict1, epoch1 = TrainModel (model1, x1, y1, x_vl, y_vl, True, config_value[1], True)\n",
        "print(\"Testing phase\")\n",
        "accuracy1, precision1, recall1, confusionmatrix1 = ModelAssestment(model1, x_ts, y_ts)\n",
        "print('\\nAccuracy on test set:', accuracy1)\n",
        "print('Precision on test set:', precision1)\n",
        "print('Recall on test set:', recall1, \"\\n\")\n",
        "print('Confusion matrix:')\n",
        "df = pd.DataFrame(confusionmatrix1)\n",
        "df.columns = ['Actual Fake News', 'Actual Real News']\n",
        "df = df.rename(columns={'0': 'Actual Fake News', '1':'Actual Real News'}, index={0: 'Predicted Fake News', 1:'Predicted Real News'})\n",
        "display(df)"
      ],
      "metadata": {
        "id": "vqwqKm68p2nI",
        "colab": {
          "base_uri": "https://localhost:8080/",
          "height": 638
        },
        "outputId": "e1a63c45-36b6-41fb-fa31-1030192a4ccf"
      },
      "execution_count": null,
      "outputs": [
        {
          "output_type": "stream",
          "name": "stdout",
          "text": [
            "Training phase\n",
            "The class weights used are:\n",
            " {0: 9.999257609502598, 1: 0.5263178461177758}\n",
            "Epoch 1/10\n",
            "211/211 [==============================] - 151s 686ms/step - loss: 0.3166 - accuracy: 0.9199 - val_loss: 0.1680 - val_accuracy: 0.9389\n",
            "Epoch 2/10\n",
            "211/211 [==============================] - 144s 680ms/step - loss: 0.1274 - accuracy: 0.9622 - val_loss: 0.1167 - val_accuracy: 0.9566\n",
            "Epoch 3/10\n",
            "211/211 [==============================] - 144s 680ms/step - loss: 0.0792 - accuracy: 0.9778 - val_loss: 0.0871 - val_accuracy: 0.9693\n",
            "Epoch 4/10\n",
            "211/211 [==============================] - 151s 716ms/step - loss: 0.0505 - accuracy: 0.9854 - val_loss: 0.0819 - val_accuracy: 0.9698\n",
            "Epoch 5/10\n",
            "211/211 [==============================] - 144s 683ms/step - loss: 0.0316 - accuracy: 0.9906 - val_loss: 0.0605 - val_accuracy: 0.9786\n",
            "Epoch 6/10\n",
            "211/211 [==============================] - 145s 685ms/step - loss: 0.0242 - accuracy: 0.9938 - val_loss: 0.0566 - val_accuracy: 0.9806\n",
            "Epoch 7/10\n",
            "211/211 [==============================] - 144s 685ms/step - loss: 0.0168 - accuracy: 0.9950 - val_loss: 0.0592 - val_accuracy: 0.9817\n",
            "Epoch 8/10\n",
            "211/211 [==============================] - 144s 683ms/step - loss: 0.0124 - accuracy: 0.9967 - val_loss: 0.0504 - val_accuracy: 0.9840\n",
            "Epoch 9/10\n",
            "211/211 [==============================] - 144s 682ms/step - loss: 0.0081 - accuracy: 0.9978 - val_loss: 0.0606 - val_accuracy: 0.9818\n",
            "Epoch 10/10\n",
            "211/211 [==============================] - 144s 681ms/step - loss: 0.0072 - accuracy: 0.9986 - val_loss: 0.0640 - val_accuracy: 0.9831\n",
            "Testing phase\n",
            "281/281 [==============================] - 16s 58ms/step - loss: 0.0497 - accuracy: 0.9839\n",
            "\n",
            "Accuracy on test set: 0.9838530066815144\n",
            "Precision on test set: 0.9886712296436158\n",
            "Recall on test set: 0.9773681754549697 \n",
            "\n",
            "Confusion matrix:\n"
          ]
        },
        {
          "output_type": "display_data",
          "data": {
            "text/plain": [
              "                     Actual Fake News  Actual Real News\n",
              "Predicted Fake News              4646                48\n",
              "Predicted Real News                97              4189"
            ],
            "text/html": [
              "\n",
              "  <div id=\"df-424cc399-4872-44e4-8040-feec060b9f96\">\n",
              "    <div class=\"colab-df-container\">\n",
              "      <div>\n",
              "<style scoped>\n",
              "    .dataframe tbody tr th:only-of-type {\n",
              "        vertical-align: middle;\n",
              "    }\n",
              "\n",
              "    .dataframe tbody tr th {\n",
              "        vertical-align: top;\n",
              "    }\n",
              "\n",
              "    .dataframe thead th {\n",
              "        text-align: right;\n",
              "    }\n",
              "</style>\n",
              "<table border=\"1\" class=\"dataframe\">\n",
              "  <thead>\n",
              "    <tr style=\"text-align: right;\">\n",
              "      <th></th>\n",
              "      <th>Actual Fake News</th>\n",
              "      <th>Actual Real News</th>\n",
              "    </tr>\n",
              "  </thead>\n",
              "  <tbody>\n",
              "    <tr>\n",
              "      <th>Predicted Fake News</th>\n",
              "      <td>4646</td>\n",
              "      <td>48</td>\n",
              "    </tr>\n",
              "    <tr>\n",
              "      <th>Predicted Real News</th>\n",
              "      <td>97</td>\n",
              "      <td>4189</td>\n",
              "    </tr>\n",
              "  </tbody>\n",
              "</table>\n",
              "</div>\n",
              "      <button class=\"colab-df-convert\" onclick=\"convertToInteractive('df-424cc399-4872-44e4-8040-feec060b9f96')\"\n",
              "              title=\"Convert this dataframe to an interactive table.\"\n",
              "              style=\"display:none;\">\n",
              "        \n",
              "  <svg xmlns=\"http://www.w3.org/2000/svg\" height=\"24px\"viewBox=\"0 0 24 24\"\n",
              "       width=\"24px\">\n",
              "    <path d=\"M0 0h24v24H0V0z\" fill=\"none\"/>\n",
              "    <path d=\"M18.56 5.44l.94 2.06.94-2.06 2.06-.94-2.06-.94-.94-2.06-.94 2.06-2.06.94zm-11 1L8.5 8.5l.94-2.06 2.06-.94-2.06-.94L8.5 2.5l-.94 2.06-2.06.94zm10 10l.94 2.06.94-2.06 2.06-.94-2.06-.94-.94-2.06-.94 2.06-2.06.94z\"/><path d=\"M17.41 7.96l-1.37-1.37c-.4-.4-.92-.59-1.43-.59-.52 0-1.04.2-1.43.59L10.3 9.45l-7.72 7.72c-.78.78-.78 2.05 0 2.83L4 21.41c.39.39.9.59 1.41.59.51 0 1.02-.2 1.41-.59l7.78-7.78 2.81-2.81c.8-.78.8-2.07 0-2.86zM5.41 20L4 18.59l7.72-7.72 1.47 1.35L5.41 20z\"/>\n",
              "  </svg>\n",
              "      </button>\n",
              "      \n",
              "  <style>\n",
              "    .colab-df-container {\n",
              "      display:flex;\n",
              "      flex-wrap:wrap;\n",
              "      gap: 12px;\n",
              "    }\n",
              "\n",
              "    .colab-df-convert {\n",
              "      background-color: #E8F0FE;\n",
              "      border: none;\n",
              "      border-radius: 50%;\n",
              "      cursor: pointer;\n",
              "      display: none;\n",
              "      fill: #1967D2;\n",
              "      height: 32px;\n",
              "      padding: 0 0 0 0;\n",
              "      width: 32px;\n",
              "    }\n",
              "\n",
              "    .colab-df-convert:hover {\n",
              "      background-color: #E2EBFA;\n",
              "      box-shadow: 0px 1px 2px rgba(60, 64, 67, 0.3), 0px 1px 3px 1px rgba(60, 64, 67, 0.15);\n",
              "      fill: #174EA6;\n",
              "    }\n",
              "\n",
              "    [theme=dark] .colab-df-convert {\n",
              "      background-color: #3B4455;\n",
              "      fill: #D2E3FC;\n",
              "    }\n",
              "\n",
              "    [theme=dark] .colab-df-convert:hover {\n",
              "      background-color: #434B5C;\n",
              "      box-shadow: 0px 1px 3px 1px rgba(0, 0, 0, 0.15);\n",
              "      filter: drop-shadow(0px 1px 2px rgba(0, 0, 0, 0.3));\n",
              "      fill: #FFFFFF;\n",
              "    }\n",
              "  </style>\n",
              "\n",
              "      <script>\n",
              "        const buttonEl =\n",
              "          document.querySelector('#df-424cc399-4872-44e4-8040-feec060b9f96 button.colab-df-convert');\n",
              "        buttonEl.style.display =\n",
              "          google.colab.kernel.accessAllowed ? 'block' : 'none';\n",
              "\n",
              "        async function convertToInteractive(key) {\n",
              "          const element = document.querySelector('#df-424cc399-4872-44e4-8040-feec060b9f96');\n",
              "          const dataTable =\n",
              "            await google.colab.kernel.invokeFunction('convertToInteractive',\n",
              "                                                     [key], {});\n",
              "          if (!dataTable) return;\n",
              "\n",
              "          const docLinkHtml = 'Like what you see? Visit the ' +\n",
              "            '<a target=\"_blank\" href=https://colab.research.google.com/notebooks/data_table.ipynb>data table notebook</a>'\n",
              "            + ' to learn more about interactive tables.';\n",
              "          element.innerHTML = '';\n",
              "          dataTable['output_type'] = 'display_data';\n",
              "          await google.colab.output.renderOutput(dataTable, element);\n",
              "          const docLink = document.createElement('div');\n",
              "          docLink.innerHTML = docLinkHtml;\n",
              "          element.appendChild(docLink);\n",
              "        }\n",
              "      </script>\n",
              "    </div>\n",
              "  </div>\n",
              "  "
            ]
          },
          "metadata": {}
        }
      ]
    },
    {
      "cell_type": "code",
      "source": [
        "# Train model on TR set with more fake news than real news\n",
        "print(\"Training phase\")\n",
        "model2 = BuiltModel(vocab_size, embedding_dim, glove_embeddings_matrix, config_value[0], config_value[2])\n",
        "model2, history_dict2, epoch2 = TrainModel (model2, x2, y2, x_vl, y_vl, True, config_value[1], True)\n",
        "print(\"Testing phase\")\n",
        "accuracy2, precision2, recall2, confusionmatrix2 = ModelAssestment(model2, x_ts, y_ts)\n",
        "print('\\nAccuracy on test set:', accuracy2)\n",
        "print('Precision on test set:', precision2)\n",
        "print('Recall on test set:', recall2, \"\\n\")\n",
        "print('Confusion matrix:')\n",
        "df = pd.DataFrame(confusionmatrix2)\n",
        "df.columns = ['Actual Fake News', 'Actual Real News']\n",
        "df = df.rename(columns={'0': 'Actual Fake News', '1':'Actual Real News'}, index={0: 'Predicted Fake News', 1:'Predicted Real News'})\n",
        "display(df)"
      ],
      "metadata": {
        "id": "8_UDwXDyPSWE",
        "colab": {
          "base_uri": "https://localhost:8080/",
          "height": 570
        },
        "outputId": "8bc80626-3e29-49cb-e88c-3d731be4f8b7"
      },
      "execution_count": null,
      "outputs": [
        {
          "output_type": "stream",
          "name": "stdout",
          "text": [
            "Training phase\n",
            "The class weights used are:\n",
            " {0: 0.5263178461177758, 1: 9.999257609502598}\n",
            "Epoch 1/10\n",
            "211/211 [==============================] - 155s 694ms/step - loss: 0.3244 - accuracy: 0.9109 - val_loss: 0.1641 - val_accuracy: 0.9378\n",
            "Epoch 2/10\n",
            "211/211 [==============================] - 146s 690ms/step - loss: 0.1245 - accuracy: 0.9580 - val_loss: 0.1059 - val_accuracy: 0.9609\n",
            "Epoch 3/10\n",
            "211/211 [==============================] - 146s 691ms/step - loss: 0.0796 - accuracy: 0.9754 - val_loss: 0.0947 - val_accuracy: 0.9658\n",
            "Epoch 4/10\n",
            "211/211 [==============================] - 145s 687ms/step - loss: 0.0526 - accuracy: 0.9845 - val_loss: 0.0719 - val_accuracy: 0.9739\n",
            "Epoch 5/10\n",
            "211/211 [==============================] - 145s 686ms/step - loss: 0.0364 - accuracy: 0.9885 - val_loss: 0.0792 - val_accuracy: 0.9735\n",
            "Epoch 6/10\n",
            "211/211 [==============================] - 145s 687ms/step - loss: 0.0281 - accuracy: 0.9912 - val_loss: 0.0600 - val_accuracy: 0.9795\n",
            "Epoch 7/10\n",
            "211/211 [==============================] - 145s 688ms/step - loss: 0.0187 - accuracy: 0.9942 - val_loss: 0.1270 - val_accuracy: 0.9567\n",
            "Epoch 8/10\n",
            "211/211 [==============================] - 145s 689ms/step - loss: 0.0151 - accuracy: 0.9962 - val_loss: 0.1014 - val_accuracy: 0.9704\n",
            "Testing phase\n",
            "281/281 [==============================] - 16s 58ms/step - loss: 0.0560 - accuracy: 0.9825\n",
            "\n",
            "Accuracy on test set: 0.9825167037861915\n",
            "Precision on test set: 0.9813547321217843\n",
            "Recall on test set: 0.9815864022662889 \n",
            "\n",
            "Confusion matrix:\n"
          ]
        },
        {
          "output_type": "display_data",
          "data": {
            "text/plain": [
              "                     Actual Fake News  Actual Real News\n",
              "Predicted Fake News              4665                79\n",
              "Predicted Real News                78              4158"
            ],
            "text/html": [
              "\n",
              "  <div id=\"df-e6e042aa-b8b2-4fba-a9aa-aaabe3b65cde\">\n",
              "    <div class=\"colab-df-container\">\n",
              "      <div>\n",
              "<style scoped>\n",
              "    .dataframe tbody tr th:only-of-type {\n",
              "        vertical-align: middle;\n",
              "    }\n",
              "\n",
              "    .dataframe tbody tr th {\n",
              "        vertical-align: top;\n",
              "    }\n",
              "\n",
              "    .dataframe thead th {\n",
              "        text-align: right;\n",
              "    }\n",
              "</style>\n",
              "<table border=\"1\" class=\"dataframe\">\n",
              "  <thead>\n",
              "    <tr style=\"text-align: right;\">\n",
              "      <th></th>\n",
              "      <th>Actual Fake News</th>\n",
              "      <th>Actual Real News</th>\n",
              "    </tr>\n",
              "  </thead>\n",
              "  <tbody>\n",
              "    <tr>\n",
              "      <th>Predicted Fake News</th>\n",
              "      <td>4665</td>\n",
              "      <td>79</td>\n",
              "    </tr>\n",
              "    <tr>\n",
              "      <th>Predicted Real News</th>\n",
              "      <td>78</td>\n",
              "      <td>4158</td>\n",
              "    </tr>\n",
              "  </tbody>\n",
              "</table>\n",
              "</div>\n",
              "      <button class=\"colab-df-convert\" onclick=\"convertToInteractive('df-e6e042aa-b8b2-4fba-a9aa-aaabe3b65cde')\"\n",
              "              title=\"Convert this dataframe to an interactive table.\"\n",
              "              style=\"display:none;\">\n",
              "        \n",
              "  <svg xmlns=\"http://www.w3.org/2000/svg\" height=\"24px\"viewBox=\"0 0 24 24\"\n",
              "       width=\"24px\">\n",
              "    <path d=\"M0 0h24v24H0V0z\" fill=\"none\"/>\n",
              "    <path d=\"M18.56 5.44l.94 2.06.94-2.06 2.06-.94-2.06-.94-.94-2.06-.94 2.06-2.06.94zm-11 1L8.5 8.5l.94-2.06 2.06-.94-2.06-.94L8.5 2.5l-.94 2.06-2.06.94zm10 10l.94 2.06.94-2.06 2.06-.94-2.06-.94-.94-2.06-.94 2.06-2.06.94z\"/><path d=\"M17.41 7.96l-1.37-1.37c-.4-.4-.92-.59-1.43-.59-.52 0-1.04.2-1.43.59L10.3 9.45l-7.72 7.72c-.78.78-.78 2.05 0 2.83L4 21.41c.39.39.9.59 1.41.59.51 0 1.02-.2 1.41-.59l7.78-7.78 2.81-2.81c.8-.78.8-2.07 0-2.86zM5.41 20L4 18.59l7.72-7.72 1.47 1.35L5.41 20z\"/>\n",
              "  </svg>\n",
              "      </button>\n",
              "      \n",
              "  <style>\n",
              "    .colab-df-container {\n",
              "      display:flex;\n",
              "      flex-wrap:wrap;\n",
              "      gap: 12px;\n",
              "    }\n",
              "\n",
              "    .colab-df-convert {\n",
              "      background-color: #E8F0FE;\n",
              "      border: none;\n",
              "      border-radius: 50%;\n",
              "      cursor: pointer;\n",
              "      display: none;\n",
              "      fill: #1967D2;\n",
              "      height: 32px;\n",
              "      padding: 0 0 0 0;\n",
              "      width: 32px;\n",
              "    }\n",
              "\n",
              "    .colab-df-convert:hover {\n",
              "      background-color: #E2EBFA;\n",
              "      box-shadow: 0px 1px 2px rgba(60, 64, 67, 0.3), 0px 1px 3px 1px rgba(60, 64, 67, 0.15);\n",
              "      fill: #174EA6;\n",
              "    }\n",
              "\n",
              "    [theme=dark] .colab-df-convert {\n",
              "      background-color: #3B4455;\n",
              "      fill: #D2E3FC;\n",
              "    }\n",
              "\n",
              "    [theme=dark] .colab-df-convert:hover {\n",
              "      background-color: #434B5C;\n",
              "      box-shadow: 0px 1px 3px 1px rgba(0, 0, 0, 0.15);\n",
              "      filter: drop-shadow(0px 1px 2px rgba(0, 0, 0, 0.3));\n",
              "      fill: #FFFFFF;\n",
              "    }\n",
              "  </style>\n",
              "\n",
              "      <script>\n",
              "        const buttonEl =\n",
              "          document.querySelector('#df-e6e042aa-b8b2-4fba-a9aa-aaabe3b65cde button.colab-df-convert');\n",
              "        buttonEl.style.display =\n",
              "          google.colab.kernel.accessAllowed ? 'block' : 'none';\n",
              "\n",
              "        async function convertToInteractive(key) {\n",
              "          const element = document.querySelector('#df-e6e042aa-b8b2-4fba-a9aa-aaabe3b65cde');\n",
              "          const dataTable =\n",
              "            await google.colab.kernel.invokeFunction('convertToInteractive',\n",
              "                                                     [key], {});\n",
              "          if (!dataTable) return;\n",
              "\n",
              "          const docLinkHtml = 'Like what you see? Visit the ' +\n",
              "            '<a target=\"_blank\" href=https://colab.research.google.com/notebooks/data_table.ipynb>data table notebook</a>'\n",
              "            + ' to learn more about interactive tables.';\n",
              "          element.innerHTML = '';\n",
              "          dataTable['output_type'] = 'display_data';\n",
              "          await google.colab.output.renderOutput(dataTable, element);\n",
              "          const docLink = document.createElement('div');\n",
              "          docLink.innerHTML = docLinkHtml;\n",
              "          element.appendChild(docLink);\n",
              "        }\n",
              "      </script>\n",
              "    </div>\n",
              "  </div>\n",
              "  "
            ]
          },
          "metadata": {}
        }
      ]
    },
    {
      "cell_type": "markdown",
      "source": [
        "By using the loss weighting function and training the model in parallel on both imbalanced TR sets, we can see that performance in the prediction phase improves: the accuracy score on the test set is higher and the number of errors made on the least represented class is decreased. \\\n",
        "Morever we can observe that the number of misclassified samples for each class is now perfectly well-balanced.\n",
        "\n",
        "By repeating the training and testing several times, we obtain the following average accuracy values in the evaluation phase.\n",
        "\n",
        "| | Accuracy on balance Test Set |\n",
        "|--| ------|\n",
        "|Model trained on balanced TR|~ 0.99 |\n",
        "|Model trained on 1° imbalanced TR |~ 0.96|\n",
        "|Model trained on 2° imbalanced TR | ~ 0.96|\n",
        "|Model trained on 1° imbalanced TR with Loss weighting|~ 0.98|\n",
        "|Model trained on 2° imbalanced TR with Loss weighting|~ 0.98|"
      ],
      "metadata": {
        "id": "_wWMMobqhh1K"
      }
    },
    {
      "cell_type": "markdown",
      "source": [
        "\n",
        "\n",
        "---\n",
        "\n",
        "\n",
        "## **6. Conclusion and further developments**"
      ],
      "metadata": {
        "id": "8TtFuZuImzKi"
      }
    },
    {
      "cell_type": "markdown",
      "source": [
        "This work aimed to show how the choice of a Bi-directional LSTM Recurrent Neural Network is a winning choice to solve a fake news detection task. Indeed, this type of architecture, which allows an input sequence to be looked from start to end and from end to start at the same time, seems to be advantageous for text classification tasks where sequential modelling is fundamental.\n",
        "\n",
        "Since we are working with textual data, it is always worth remembering that an initial cleaning and pre-processing of the dataset with typical NLP methods is necessary to improve the future behaviour of the model.\n",
        "\n",
        "Still speaking about NLP methods, we can say that the use of pre-trained word embeddings ensured our model excellent generalization capabilities.\n",
        "\n",
        "Regarding the handling of imbalanced training sets, we can conclude that weighting the loss function of each sample according to its class proved to be a good strategy (although the performance of such a model is not as good as that of a model trained on an unbalanced training set).\n",
        "\n",
        "Given the conclusions just drawn, we can anticipate some interesting future developments:\n",
        "- Since the grid search performed in the model selection phase was not exhaustive, it might be curious to explore more in depth hyper-parameters space  in order to find configurations capable of generating a better model. \n",
        "- Different architectures cannot be ruled out either, which can still lead to very good models.\n",
        "- In this experiment we focused on the use of Glove embeddings; but it might be useful to compare the performance of models trained with alternative word embeddings (e.g. Word2Vec).\n",
        "- Finally, it could be relevant to search for other strategies to make a model robust to unbalances in a training set.\n",
        "\n"
      ],
      "metadata": {
        "id": "4gp3MJd65p4Z"
      }
    },
    {
      "cell_type": "markdown",
      "source": [
        "\n",
        "\n",
        "---\n",
        "\n",
        "\n",
        "## **7. References**\n",
        "*  [Fake News Detection using Bi-directional LSTM-Recurrent Neural Network](https://www.sciencedirect.com/science/article/pii/S1877050920300806)\n",
        "* [NLTK, Natural Language Tool Kit](https://www.nltk.org/index.html)\n",
        "* [Glove: Global Vector for Word Representation](https://nlp.stanford.edu/projects/glove/)\n",
        "* [Introduction to Keras](https://github.com/diningphil/Intro_Keras)\n",
        "* [Imbalanced Learn, Under-Sampling methods](https://imbalanced-learn.org/stable/references/generated/imblearn.under_sampling.RandomUnderSampler.html)\n",
        "* [Imbalanced Learn, Over-Sampling methods](https://imbalanced-learn.org/stable/references/generated/imblearn.over_sampling.RandomOverSampler.html)\n",
        "* [Imbalanced Learn, Create an imbalanced dataset](https://imbalanced-learn.org/stable/auto_examples/datasets/plot_make_imbalance.html)\n",
        "* [Tensorflow, Classification for imbalanced dataset](https://www.tensorflow.org/tutorials/structured_data/imbalanced_data)\n",
        "* [How to Improve Class Imbalance using Class Weights in Machine Learning](https://www.analyticsvidhya.com/blog/2020/10/improve-class-imbalance-class-weights/)\n",
        "* [SciKit Learn, compute class weights](https://scikit-learn.org/stable/modules/generated/sklearn.utils.class_weight.compute_class_weight.html)"
      ],
      "metadata": {
        "id": "T48bqDt8czaZ"
      }
    }
  ]
}